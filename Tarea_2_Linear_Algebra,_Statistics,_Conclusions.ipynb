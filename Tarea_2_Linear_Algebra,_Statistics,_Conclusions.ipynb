{
  "nbformat": 4,
  "nbformat_minor": 0,
  "metadata": {
    "colab": {
      "provenance": [],
      "include_colab_link": true
    },
    "kernelspec": {
      "name": "python3",
      "display_name": "Python 3"
    },
    "language_info": {
      "name": "python"
    }
  },
  "cells": [
    {
      "cell_type": "markdown",
      "metadata": {
        "id": "view-in-github",
        "colab_type": "text"
      },
      "source": [
        "<a href=\"https://colab.research.google.com/github/FernandoMV1/DS1--Python/blob/main/Tarea_2_Linear_Algebra%2C_Statistics%2C_Conclusions.ipynb\" target=\"_parent\"><img src=\"https://colab.research.google.com/assets/colab-badge.svg\" alt=\"Open In Colab\"/></a>"
      ]
    },
    {
      "cell_type": "markdown",
      "source": [
        "Importa Numpy"
      ],
      "metadata": {
        "id": "x58tT8LE0iLj"
      }
    },
    {
      "cell_type": "code",
      "source": [
        "import numpy as np"
      ],
      "metadata": {
        "id": "6td9KXJ7EbR5"
      },
      "execution_count": null,
      "outputs": []
    },
    {
      "cell_type": "markdown",
      "source": [
        "# Operaciones con np.array"
      ],
      "metadata": {
        "id": "Q6pid64P0zQi"
      }
    },
    {
      "cell_type": "markdown",
      "source": [
        "Para cada una de las matrices presentadas, declarelas dentro de una variable array en python\n",
        "\n",
        "$$\n",
        "A = \\begin{pmatrix}\n",
        "3 & 6 & 9\\\\\n",
        "2 & 5 & 8\\\\\n",
        "1 & 4 & 7\n",
        "\\end{pmatrix}\n",
        "$$\n",
        "\n",
        "$$\n",
        "B = \\begin{pmatrix}\n",
        "2 & 6 & 9\\\\\n",
        "8 & 5 & 3\\\\\n",
        "5 & 0 & 7\n",
        "\\end{pmatrix}\n",
        "$$\n",
        "\n",
        "$$\n",
        "C = \\begin{pmatrix}\n",
        "3 & 6 & 9\\\\\n",
        "1 & 2 & 4\\\\\n",
        "6 & 4 & 9\n",
        "\\end{pmatrix}\n",
        "$$\n",
        "\n",
        "$$\n",
        "D = \\begin{pmatrix}\n",
        "9 & 9 & -9\\\\\n",
        "3 & -2 & 7\\\\\n",
        "5 & 4 & -8\n",
        "\\end{pmatrix}\n",
        "$$"
      ],
      "metadata": {
        "id": "6nDncJiy04lq"
      }
    },
    {
      "cell_type": "code",
      "execution_count": null,
      "metadata": {
        "id": "-rkueiV9zk91",
        "colab": {
          "base_uri": "https://localhost:8080/"
        },
        "outputId": "21065708-9247-4b25-82f6-006b4174a0c0"
      },
      "outputs": [
        {
          "output_type": "execute_result",
          "data": {
            "text/plain": [
              "array([[3, 6, 9],\n",
              "       [2, 5, 8],\n",
              "       [1, 4, 7]])"
            ]
          },
          "metadata": {},
          "execution_count": 2
        }
      ],
      "source": [
        "A = np.array([[3,6,9],[2,5,8],[1,4,7]])\n",
        "A"
      ]
    },
    {
      "cell_type": "code",
      "source": [
        "B = np.array([[2,6,9],[8,5,3],[5,0,7]])\n",
        "B"
      ],
      "metadata": {
        "colab": {
          "base_uri": "https://localhost:8080/"
        },
        "id": "4se0duu3FGAL",
        "outputId": "4d0ee685-2566-40de-ea00-4a56627952d4"
      },
      "execution_count": null,
      "outputs": [
        {
          "output_type": "execute_result",
          "data": {
            "text/plain": [
              "array([[2, 6, 9],\n",
              "       [8, 5, 3],\n",
              "       [5, 0, 7]])"
            ]
          },
          "metadata": {},
          "execution_count": 3
        }
      ]
    },
    {
      "cell_type": "code",
      "source": [
        "C = np.array([[3,6,9],[1,2,4],[6,4,9]])\n",
        "C"
      ],
      "metadata": {
        "colab": {
          "base_uri": "https://localhost:8080/"
        },
        "id": "Df4UkKrdFHkc",
        "outputId": "b6e43cfc-d88b-462d-bf99-5c732b260838"
      },
      "execution_count": null,
      "outputs": [
        {
          "output_type": "execute_result",
          "data": {
            "text/plain": [
              "array([[3, 6, 9],\n",
              "       [1, 2, 4],\n",
              "       [6, 4, 9]])"
            ]
          },
          "metadata": {},
          "execution_count": 4
        }
      ]
    },
    {
      "cell_type": "code",
      "source": [
        "D = np.array([[9,9,-9],[3,-2,7],[5,4,-8]])\n",
        "D"
      ],
      "metadata": {
        "colab": {
          "base_uri": "https://localhost:8080/"
        },
        "id": "VDIyv3dGFORv",
        "outputId": "ab59d304-5d44-4d97-ce89-a1799341a046"
      },
      "execution_count": null,
      "outputs": [
        {
          "output_type": "execute_result",
          "data": {
            "text/plain": [
              "array([[ 9,  9, -9],\n",
              "       [ 3, -2,  7],\n",
              "       [ 5,  4, -8]])"
            ]
          },
          "metadata": {},
          "execution_count": 5
        }
      ]
    },
    {
      "cell_type": "markdown",
      "source": [
        "## Multiplica:\n",
        "$$A*C$$\n",
        "$$B*D$$\n",
        "$$D*A$$\n",
        "$$A*A$$\n"
      ],
      "metadata": {
        "id": "c_AgMGPEC954"
      }
    },
    {
      "cell_type": "code",
      "source": [
        "A @ C"
      ],
      "metadata": {
        "colab": {
          "base_uri": "https://localhost:8080/"
        },
        "id": "FmFRibFUFZCw",
        "outputId": "268e9d1a-28ba-40e2-82b0-197870814b9a"
      },
      "execution_count": null,
      "outputs": [
        {
          "output_type": "execute_result",
          "data": {
            "text/plain": [
              "array([[ 69,  66, 132],\n",
              "       [ 59,  54, 110],\n",
              "       [ 49,  42,  88]])"
            ]
          },
          "metadata": {},
          "execution_count": 6
        }
      ]
    },
    {
      "cell_type": "code",
      "source": [
        "B @ D"
      ],
      "metadata": {
        "colab": {
          "base_uri": "https://localhost:8080/"
        },
        "id": "MNVP4jSqFbZe",
        "outputId": "ba35d17b-6d9a-43e6-8e58-a075fcf59aa0"
      },
      "execution_count": null,
      "outputs": [
        {
          "output_type": "execute_result",
          "data": {
            "text/plain": [
              "array([[  81,   42,  -48],\n",
              "       [ 102,   74,  -61],\n",
              "       [  80,   73, -101]])"
            ]
          },
          "metadata": {},
          "execution_count": 7
        }
      ]
    },
    {
      "cell_type": "code",
      "source": [
        "D @ A"
      ],
      "metadata": {
        "colab": {
          "base_uri": "https://localhost:8080/"
        },
        "id": "N7w0j9E3Fdfh",
        "outputId": "06150cbb-92a7-48ed-9bea-f3b450a48d3e"
      },
      "execution_count": null,
      "outputs": [
        {
          "output_type": "execute_result",
          "data": {
            "text/plain": [
              "array([[36, 63, 90],\n",
              "       [12, 36, 60],\n",
              "       [15, 18, 21]])"
            ]
          },
          "metadata": {},
          "execution_count": 8
        }
      ]
    },
    {
      "cell_type": "code",
      "source": [
        "A @ A"
      ],
      "metadata": {
        "colab": {
          "base_uri": "https://localhost:8080/"
        },
        "id": "dX8FVGgdFf_m",
        "outputId": "242f16f1-8498-4f2c-ebe8-da6edcbb0e4c"
      },
      "execution_count": null,
      "outputs": [
        {
          "output_type": "execute_result",
          "data": {
            "text/plain": [
              "array([[ 30,  84, 138],\n",
              "       [ 24,  69, 114],\n",
              "       [ 18,  54,  90]])"
            ]
          },
          "metadata": {},
          "execution_count": 9
        }
      ]
    },
    {
      "cell_type": "markdown",
      "source": [
        "## Eleva:\n",
        "$$A^2$$\n",
        "$$B^4$$\n",
        "$$D^3$$\n",
        "$$C^2$$"
      ],
      "metadata": {
        "id": "pvj8OrxaDRZ1"
      }
    },
    {
      "cell_type": "code",
      "source": [
        "np.linalg.matrix_power(A,2)"
      ],
      "metadata": {
        "colab": {
          "base_uri": "https://localhost:8080/"
        },
        "id": "zgTMQl8gFjRU",
        "outputId": "0e3cf554-620d-4402-fbba-8b7fac354beb"
      },
      "execution_count": null,
      "outputs": [
        {
          "output_type": "execute_result",
          "data": {
            "text/plain": [
              "array([[ 30,  84, 138],\n",
              "       [ 24,  69, 114],\n",
              "       [ 18,  54,  90]])"
            ]
          },
          "metadata": {},
          "execution_count": 10
        }
      ]
    },
    {
      "cell_type": "code",
      "source": [
        "np.linalg.matrix_power(B,4)"
      ],
      "metadata": {
        "id": "m64sjYZCC-UQ",
        "colab": {
          "base_uri": "https://localhost:8080/"
        },
        "outputId": "198d8e2d-4269-47a0-ddaa-db789d8f648e"
      },
      "execution_count": null,
      "outputs": [
        {
          "output_type": "execute_result",
          "data": {
            "text/plain": [
              "array([[16846, 10110, 23445],\n",
              "       [16930, 11551, 25065],\n",
              "       [10725,  6900, 16531]])"
            ]
          },
          "metadata": {},
          "execution_count": 11
        }
      ]
    },
    {
      "cell_type": "code",
      "source": [
        "np.linalg.matrix_power(D,3)"
      ],
      "metadata": {
        "colab": {
          "base_uri": "https://localhost:8080/"
        },
        "id": "Ix_hA4MCGCOt",
        "outputId": "2d8f9c7e-5693-4a14-99dc-5296b13398e5"
      },
      "execution_count": null,
      "outputs": [
        {
          "output_type": "execute_result",
          "data": {
            "text/plain": [
              "array([[ 918,  729, -810],\n",
              "       [ 196,   -2,  685],\n",
              "       [ 403,  331, -494]])"
            ]
          },
          "metadata": {},
          "execution_count": 12
        }
      ]
    },
    {
      "cell_type": "code",
      "source": [
        "np.linalg.matrix_power(C,2)"
      ],
      "metadata": {
        "colab": {
          "base_uri": "https://localhost:8080/"
        },
        "id": "6xwNFxd7GElI",
        "outputId": "c559d00f-6fbe-479e-ddd8-6fc5fc23789e"
      },
      "execution_count": null,
      "outputs": [
        {
          "output_type": "execute_result",
          "data": {
            "text/plain": [
              "array([[ 69,  66, 132],\n",
              "       [ 29,  26,  53],\n",
              "       [ 76,  80, 151]])"
            ]
          },
          "metadata": {},
          "execution_count": 13
        }
      ]
    },
    {
      "cell_type": "markdown",
      "source": [
        "# Algebra lineal 2"
      ],
      "metadata": {
        "id": "0YjbuWcmepou"
      }
    },
    {
      "cell_type": "markdown",
      "source": [
        "## Crea una matriz identidad de 6x6"
      ],
      "metadata": {
        "id": "SZVfQAGeC5cA"
      }
    },
    {
      "cell_type": "code",
      "source": [
        "np.eye(6,6)"
      ],
      "metadata": {
        "id": "MKKx6cpSSI4n",
        "colab": {
          "base_uri": "https://localhost:8080/"
        },
        "outputId": "2f5c1253-77c7-4acd-c7a5-0184f1715212"
      },
      "execution_count": null,
      "outputs": [
        {
          "output_type": "execute_result",
          "data": {
            "text/plain": [
              "array([[1., 0., 0., 0., 0., 0.],\n",
              "       [0., 1., 0., 0., 0., 0.],\n",
              "       [0., 0., 1., 0., 0., 0.],\n",
              "       [0., 0., 0., 1., 0., 0.],\n",
              "       [0., 0., 0., 0., 1., 0.],\n",
              "       [0., 0., 0., 0., 0., 1.]])"
            ]
          },
          "metadata": {},
          "execution_count": 14
        }
      ]
    },
    {
      "cell_type": "markdown",
      "source": [
        "## Calcula la inversa de las matrices declaradas"
      ],
      "metadata": {
        "id": "ctYfhyyLSJKb"
      }
    },
    {
      "cell_type": "code",
      "source": [
        "Ainv = np.linalg.inv(A)\n",
        "Ainv"
      ],
      "metadata": {
        "colab": {
          "base_uri": "https://localhost:8080/",
          "height": 328
        },
        "id": "53AOd4lwHaHI",
        "outputId": "3c0a27aa-9843-489a-d1f7-dcac2d28ae7d"
      },
      "execution_count": null,
      "outputs": [
        {
          "output_type": "error",
          "ename": "LinAlgError",
          "evalue": "ignored",
          "traceback": [
            "\u001b[0;31m---------------------------------------------------------------------------\u001b[0m",
            "\u001b[0;31mLinAlgError\u001b[0m                               Traceback (most recent call last)",
            "\u001b[0;32m<ipython-input-15-bc93cf09ceee>\u001b[0m in \u001b[0;36m<module>\u001b[0;34m\u001b[0m\n\u001b[0;32m----> 1\u001b[0;31m \u001b[0mAinv\u001b[0m \u001b[0;34m=\u001b[0m \u001b[0mnp\u001b[0m\u001b[0;34m.\u001b[0m\u001b[0mlinalg\u001b[0m\u001b[0;34m.\u001b[0m\u001b[0minv\u001b[0m\u001b[0;34m(\u001b[0m\u001b[0mA\u001b[0m\u001b[0;34m)\u001b[0m\u001b[0;34m\u001b[0m\u001b[0;34m\u001b[0m\u001b[0m\n\u001b[0m\u001b[1;32m      2\u001b[0m \u001b[0mAinv\u001b[0m\u001b[0;34m\u001b[0m\u001b[0;34m\u001b[0m\u001b[0m\n",
            "\u001b[0;32m/usr/local/lib/python3.9/dist-packages/numpy/core/overrides.py\u001b[0m in \u001b[0;36minv\u001b[0;34m(*args, **kwargs)\u001b[0m\n",
            "\u001b[0;32m/usr/local/lib/python3.9/dist-packages/numpy/linalg/linalg.py\u001b[0m in \u001b[0;36minv\u001b[0;34m(a)\u001b[0m\n\u001b[1;32m    543\u001b[0m     \u001b[0msignature\u001b[0m \u001b[0;34m=\u001b[0m \u001b[0;34m'D->D'\u001b[0m \u001b[0;32mif\u001b[0m \u001b[0misComplexType\u001b[0m\u001b[0;34m(\u001b[0m\u001b[0mt\u001b[0m\u001b[0;34m)\u001b[0m \u001b[0;32melse\u001b[0m \u001b[0;34m'd->d'\u001b[0m\u001b[0;34m\u001b[0m\u001b[0;34m\u001b[0m\u001b[0m\n\u001b[1;32m    544\u001b[0m     \u001b[0mextobj\u001b[0m \u001b[0;34m=\u001b[0m \u001b[0mget_linalg_error_extobj\u001b[0m\u001b[0;34m(\u001b[0m\u001b[0m_raise_linalgerror_singular\u001b[0m\u001b[0;34m)\u001b[0m\u001b[0;34m\u001b[0m\u001b[0;34m\u001b[0m\u001b[0m\n\u001b[0;32m--> 545\u001b[0;31m     \u001b[0mainv\u001b[0m \u001b[0;34m=\u001b[0m \u001b[0m_umath_linalg\u001b[0m\u001b[0;34m.\u001b[0m\u001b[0minv\u001b[0m\u001b[0;34m(\u001b[0m\u001b[0ma\u001b[0m\u001b[0;34m,\u001b[0m \u001b[0msignature\u001b[0m\u001b[0;34m=\u001b[0m\u001b[0msignature\u001b[0m\u001b[0;34m,\u001b[0m \u001b[0mextobj\u001b[0m\u001b[0;34m=\u001b[0m\u001b[0mextobj\u001b[0m\u001b[0;34m)\u001b[0m\u001b[0;34m\u001b[0m\u001b[0;34m\u001b[0m\u001b[0m\n\u001b[0m\u001b[1;32m    546\u001b[0m     \u001b[0;32mreturn\u001b[0m \u001b[0mwrap\u001b[0m\u001b[0;34m(\u001b[0m\u001b[0mainv\u001b[0m\u001b[0;34m.\u001b[0m\u001b[0mastype\u001b[0m\u001b[0;34m(\u001b[0m\u001b[0mresult_t\u001b[0m\u001b[0;34m,\u001b[0m \u001b[0mcopy\u001b[0m\u001b[0;34m=\u001b[0m\u001b[0;32mFalse\u001b[0m\u001b[0;34m)\u001b[0m\u001b[0;34m)\u001b[0m\u001b[0;34m\u001b[0m\u001b[0;34m\u001b[0m\u001b[0m\n\u001b[1;32m    547\u001b[0m \u001b[0;34m\u001b[0m\u001b[0m\n",
            "\u001b[0;32m/usr/local/lib/python3.9/dist-packages/numpy/linalg/linalg.py\u001b[0m in \u001b[0;36m_raise_linalgerror_singular\u001b[0;34m(err, flag)\u001b[0m\n\u001b[1;32m     86\u001b[0m \u001b[0;34m\u001b[0m\u001b[0m\n\u001b[1;32m     87\u001b[0m \u001b[0;32mdef\u001b[0m \u001b[0m_raise_linalgerror_singular\u001b[0m\u001b[0;34m(\u001b[0m\u001b[0merr\u001b[0m\u001b[0;34m,\u001b[0m \u001b[0mflag\u001b[0m\u001b[0;34m)\u001b[0m\u001b[0;34m:\u001b[0m\u001b[0;34m\u001b[0m\u001b[0;34m\u001b[0m\u001b[0m\n\u001b[0;32m---> 88\u001b[0;31m     \u001b[0;32mraise\u001b[0m \u001b[0mLinAlgError\u001b[0m\u001b[0;34m(\u001b[0m\u001b[0;34m\"Singular matrix\"\u001b[0m\u001b[0;34m)\u001b[0m\u001b[0;34m\u001b[0m\u001b[0;34m\u001b[0m\u001b[0m\n\u001b[0m\u001b[1;32m     89\u001b[0m \u001b[0;34m\u001b[0m\u001b[0m\n\u001b[1;32m     90\u001b[0m \u001b[0;32mdef\u001b[0m \u001b[0m_raise_linalgerror_nonposdef\u001b[0m\u001b[0;34m(\u001b[0m\u001b[0merr\u001b[0m\u001b[0;34m,\u001b[0m \u001b[0mflag\u001b[0m\u001b[0;34m)\u001b[0m\u001b[0;34m:\u001b[0m\u001b[0;34m\u001b[0m\u001b[0;34m\u001b[0m\u001b[0m\n",
            "\u001b[0;31mLinAlgError\u001b[0m: Singular matrix"
          ]
        }
      ]
    },
    {
      "cell_type": "code",
      "source": [
        "Adet = np.linalg.det(A)\n",
        "Adet"
      ],
      "metadata": {
        "id": "5Ili640Ye6eU",
        "colab": {
          "base_uri": "https://localhost:8080/"
        },
        "outputId": "68ad7a79-9d94-4518-b315-2e32298a88df"
      },
      "execution_count": null,
      "outputs": [
        {
          "output_type": "execute_result",
          "data": {
            "text/plain": [
              "0.0"
            ]
          },
          "metadata": {},
          "execution_count": 16
        }
      ]
    },
    {
      "cell_type": "code",
      "source": [
        "Binv = np.linalg.inv(B)\n",
        "Binv"
      ],
      "metadata": {
        "colab": {
          "base_uri": "https://localhost:8080/"
        },
        "id": "CH10FPlbHUBA",
        "outputId": "1794fb49-4bca-408f-c44f-dbb2a72544c5"
      },
      "execution_count": null,
      "outputs": [
        {
          "output_type": "execute_result",
          "data": {
            "text/plain": [
              "array([[-0.0872818 ,  0.10473815,  0.06733167],\n",
              "       [ 0.10224439,  0.07730673, -0.16458853],\n",
              "       [ 0.06234414, -0.07481297,  0.09476309]])"
            ]
          },
          "metadata": {},
          "execution_count": 17
        }
      ]
    },
    {
      "cell_type": "code",
      "source": [
        "Cinv = np.linalg.inv(C)\n",
        "Cinv"
      ],
      "metadata": {
        "colab": {
          "base_uri": "https://localhost:8080/"
        },
        "id": "xZyVK6sXH2ME",
        "outputId": "0be55cdf-e293-4894-b801-2cb29e96c947"
      },
      "execution_count": null,
      "outputs": [
        {
          "output_type": "execute_result",
          "data": {
            "text/plain": [
              "array([[ 8.33333333e-02, -7.50000000e-01,  2.50000000e-01],\n",
              "       [ 6.25000000e-01, -1.12500000e+00, -1.25000000e-01],\n",
              "       [-3.33333333e-01,  1.00000000e+00,  2.77555756e-17]])"
            ]
          },
          "metadata": {},
          "execution_count": 18
        }
      ]
    },
    {
      "cell_type": "code",
      "source": [
        "Dinv = np.linalg.inv(D)\n",
        "Dinv"
      ],
      "metadata": {
        "colab": {
          "base_uri": "https://localhost:8080/"
        },
        "id": "9-vNuoizH5AZ",
        "outputId": "a74931ec-c73d-4586-8286-c184969137be"
      },
      "execution_count": null,
      "outputs": [
        {
          "output_type": "execute_result",
          "data": {
            "text/plain": [
              "array([[-0.05333333,  0.16      ,  0.2       ],\n",
              "       [ 0.26222222, -0.12      , -0.4       ],\n",
              "       [ 0.09777778,  0.04      , -0.2       ]])"
            ]
          },
          "metadata": {},
          "execution_count": 20
        }
      ]
    },
    {
      "cell_type": "markdown",
      "source": [
        "## Transpone las matrices inversas generadas en el punto anterior"
      ],
      "metadata": {
        "id": "xeWLZYSHe2E_"
      }
    },
    {
      "cell_type": "code",
      "source": [
        "Btran = np.transpose(Binv)\n",
        "Btran"
      ],
      "metadata": {
        "id": "FFJq4nP9e6zi",
        "colab": {
          "base_uri": "https://localhost:8080/"
        },
        "outputId": "50c79a25-4385-4730-d8a2-2e2f014a1512"
      },
      "execution_count": null,
      "outputs": [
        {
          "output_type": "execute_result",
          "data": {
            "text/plain": [
              "array([[-0.0872818 ,  0.10224439,  0.06234414],\n",
              "       [ 0.10473815,  0.07730673, -0.07481297],\n",
              "       [ 0.06733167, -0.16458853,  0.09476309]])"
            ]
          },
          "metadata": {},
          "execution_count": 21
        }
      ]
    },
    {
      "cell_type": "code",
      "source": [
        "Ctran = np.transpose(Cinv)\n",
        "Ctran"
      ],
      "metadata": {
        "colab": {
          "base_uri": "https://localhost:8080/"
        },
        "id": "spTSvzUdJRCQ",
        "outputId": "c715f03d-502a-4ccd-c004-420ea3a5ada5"
      },
      "execution_count": null,
      "outputs": [
        {
          "output_type": "execute_result",
          "data": {
            "text/plain": [
              "array([[ 8.33333333e-02,  6.25000000e-01, -3.33333333e-01],\n",
              "       [-7.50000000e-01, -1.12500000e+00,  1.00000000e+00],\n",
              "       [ 2.50000000e-01, -1.25000000e-01,  2.77555756e-17]])"
            ]
          },
          "metadata": {},
          "execution_count": 22
        }
      ]
    },
    {
      "cell_type": "code",
      "source": [
        "Dtran = np.transpose(Dinv)\n",
        "Dtran"
      ],
      "metadata": {
        "colab": {
          "base_uri": "https://localhost:8080/"
        },
        "id": "MBmYMXV2JUFA",
        "outputId": "4caa3be5-f6e2-44d7-feec-a91154e82fd6"
      },
      "execution_count": null,
      "outputs": [
        {
          "output_type": "execute_result",
          "data": {
            "text/plain": [
              "array([[-0.05333333,  0.26222222,  0.09777778],\n",
              "       [ 0.16      , -0.12      ,  0.04      ],\n",
              "       [ 0.2       , -0.4       , -0.2       ]])"
            ]
          },
          "metadata": {},
          "execution_count": 23
        }
      ]
    },
    {
      "cell_type": "markdown",
      "source": [
        "## Resuelve los siguientes sistemas de ecuación lineal\n",
        "asegurate de declarar las variables primero"
      ],
      "metadata": {
        "id": "25QM9ezte8xn"
      }
    },
    {
      "cell_type": "markdown",
      "source": [
        "$$2x + y - 3z = 4$$\n",
        "$$x - 3y + 2z = -1$$\n",
        "$$4x + 2y + z = 7$$"
      ],
      "metadata": {
        "id": "E1Gv8zkLfGwI"
      }
    },
    {
      "cell_type": "code",
      "source": [
        "Ae = np.array([[2,1,-3],[1,-3,2],[4,2,1]])\n",
        "Ae"
      ],
      "metadata": {
        "id": "ythKFxO-fHI7",
        "colab": {
          "base_uri": "https://localhost:8080/"
        },
        "outputId": "f4e462e0-08b4-4319-f53d-b5dae9f85d4c"
      },
      "execution_count": null,
      "outputs": [
        {
          "output_type": "execute_result",
          "data": {
            "text/plain": [
              "array([[ 2,  1, -3],\n",
              "       [ 1, -3,  2],\n",
              "       [ 4,  2,  1]])"
            ]
          },
          "metadata": {},
          "execution_count": 24
        }
      ]
    },
    {
      "cell_type": "code",
      "source": [
        "ae = np.array([[4],[-1],[7]])\n",
        "ae"
      ],
      "metadata": {
        "colab": {
          "base_uri": "https://localhost:8080/"
        },
        "id": "2JR2LTrONpnN",
        "outputId": "d258da4d-5aa4-4eca-c39f-fb876766fa51"
      },
      "execution_count": null,
      "outputs": [
        {
          "output_type": "execute_result",
          "data": {
            "text/plain": [
              "array([[ 4],\n",
              "       [-1],\n",
              "       [ 7]])"
            ]
          },
          "metadata": {},
          "execution_count": 25
        }
      ]
    },
    {
      "cell_type": "code",
      "source": [
        "xae = np.linalg.solve(Ae,ae)\n",
        "xae"
      ],
      "metadata": {
        "colab": {
          "base_uri": "https://localhost:8080/"
        },
        "id": "BRwhTsaUOJbF",
        "outputId": "3670c1dd-5337-49d7-f015-d29f53333c74"
      },
      "execution_count": null,
      "outputs": [
        {
          "output_type": "execute_result",
          "data": {
            "text/plain": [
              "array([[ 1.42857143],\n",
              "       [ 0.71428571],\n",
              "       [-0.14285714]])"
            ]
          },
          "metadata": {},
          "execution_count": 26
        }
      ]
    },
    {
      "cell_type": "markdown",
      "source": [
        "## Verificación"
      ],
      "metadata": {
        "id": "g019BcBfOUfA"
      }
    },
    {
      "cell_type": "code",
      "source": [
        "Ae @ xae"
      ],
      "metadata": {
        "colab": {
          "base_uri": "https://localhost:8080/"
        },
        "id": "FV0YMhbwObXp",
        "outputId": "bdb03ba7-c653-4d06-f60c-1800613f8a45"
      },
      "execution_count": null,
      "outputs": [
        {
          "output_type": "execute_result",
          "data": {
            "text/plain": [
              "array([[ 4.],\n",
              "       [-1.],\n",
              "       [ 7.]])"
            ]
          },
          "metadata": {},
          "execution_count": 27
        }
      ]
    },
    {
      "cell_type": "markdown",
      "source": [
        "$$2x + y - 3z + 4w = 10$$\n",
        "$$x - 3y + 2z - w = 5$$\n",
        "$$4x + 2y + z + 2w = 17$$\n",
        "$$3x + y + 5z - w = 8$$"
      ],
      "metadata": {
        "id": "c3Mc7tdAfHgL"
      }
    },
    {
      "cell_type": "code",
      "source": [
        "Be = np.array([[2,1,-3,4],[1,-3,2,-1],[4,2,1,2],[3,1,5,-1]])\n",
        "Be"
      ],
      "metadata": {
        "id": "ywwGp-K6fIA_",
        "colab": {
          "base_uri": "https://localhost:8080/"
        },
        "outputId": "0516fcad-45c0-4bf9-c124-6a2848a861b2"
      },
      "execution_count": null,
      "outputs": [
        {
          "output_type": "execute_result",
          "data": {
            "text/plain": [
              "array([[ 2,  1, -3,  4],\n",
              "       [ 1, -3,  2, -1],\n",
              "       [ 4,  2,  1,  2],\n",
              "       [ 3,  1,  5, -1]])"
            ]
          },
          "metadata": {},
          "execution_count": 28
        }
      ]
    },
    {
      "cell_type": "code",
      "source": [
        "be = np.array([[10],[5],[17],[8]])\n",
        "be"
      ],
      "metadata": {
        "colab": {
          "base_uri": "https://localhost:8080/"
        },
        "id": "wsXpuCNSO0zz",
        "outputId": "8f7d8772-582c-4f76-9006-abdcc838d561"
      },
      "execution_count": null,
      "outputs": [
        {
          "output_type": "execute_result",
          "data": {
            "text/plain": [
              "array([[10],\n",
              "       [ 5],\n",
              "       [17],\n",
              "       [ 8]])"
            ]
          },
          "metadata": {},
          "execution_count": 29
        }
      ]
    },
    {
      "cell_type": "code",
      "source": [
        "xbe = np.linalg.solve(Be,be)\n",
        "xbe"
      ],
      "metadata": {
        "colab": {
          "base_uri": "https://localhost:8080/"
        },
        "id": "35yJwHbaPBih",
        "outputId": "b0edd095-126c-429c-e9e0-384e75e30479"
      },
      "execution_count": null,
      "outputs": [
        {
          "output_type": "execute_result",
          "data": {
            "text/plain": [
              "array([[ 6.53571429],\n",
              "       [-0.42857143],\n",
              "       [-2.78571429],\n",
              "       [-2.75      ]])"
            ]
          },
          "metadata": {},
          "execution_count": 30
        }
      ]
    },
    {
      "cell_type": "markdown",
      "source": [
        "##Verificacíon"
      ],
      "metadata": {
        "id": "y8NcPmS6PI5y"
      }
    },
    {
      "cell_type": "code",
      "source": [
        "Be @ xbe"
      ],
      "metadata": {
        "colab": {
          "base_uri": "https://localhost:8080/"
        },
        "id": "7GQTvThHPLxr",
        "outputId": "cde92727-4fea-4987-a642-fe665519efec"
      },
      "execution_count": null,
      "outputs": [
        {
          "output_type": "execute_result",
          "data": {
            "text/plain": [
              "array([[10.],\n",
              "       [ 5.],\n",
              "       [17.],\n",
              "       [ 8.]])"
            ]
          },
          "metadata": {},
          "execution_count": 31
        }
      ]
    },
    {
      "cell_type": "markdown",
      "source": [
        "# Estadística Descriptiva"
      ],
      "metadata": {
        "id": "lFqJJClWztWx"
      }
    },
    {
      "cell_type": "markdown",
      "source": [
        "Importa Pandas como pd"
      ],
      "metadata": {
        "id": "fGxPHL8bfmzH"
      }
    },
    {
      "cell_type": "code",
      "source": [
        "import pandas as pd"
      ],
      "metadata": {
        "id": "MnDtEEjdfpA7"
      },
      "execution_count": null,
      "outputs": []
    },
    {
      "cell_type": "markdown",
      "source": [
        "Descarga el set de datos costumers-dataset de kagle\n",
        "https://www.kaggle.com/datasets/datascientistanna/customers-dataset\n",
        "\n",
        "Guardalo en tu Google Drive e Importa el documento a Google Colaboratory"
      ],
      "metadata": {
        "id": "b83ltpPZfpNe"
      }
    },
    {
      "cell_type": "code",
      "source": [
        "from google.colab import drive\n",
        "drive.mount ('/content/drive')"
      ],
      "metadata": {
        "id": "CKyEDoxFf0Gp",
        "colab": {
          "base_uri": "https://localhost:8080/"
        },
        "outputId": "96346637-7151-47b9-9511-15fceda3866f"
      },
      "execution_count": null,
      "outputs": [
        {
          "output_type": "stream",
          "name": "stdout",
          "text": [
            "Mounted at /content/drive\n"
          ]
        }
      ]
    },
    {
      "cell_type": "markdown",
      "source": [
        "Crea un Dataframe de Pandas"
      ],
      "metadata": {
        "id": "5HqrcvNsf7Uq"
      }
    },
    {
      "cell_type": "code",
      "source": [
        "df = pd.read_csv('/content/drive/MyDrive/Kodigo Bootcamp/Customers2.csv')"
      ],
      "metadata": {
        "id": "loB9PlEef9Rm"
      },
      "execution_count": null,
      "outputs": []
    },
    {
      "cell_type": "code",
      "source": [
        "df"
      ],
      "metadata": {
        "colab": {
          "base_uri": "https://localhost:8080/",
          "height": 423
        },
        "id": "jRxGGBeHU9j-",
        "outputId": "d95eeb82-2ed7-49af-e51b-68b3b7053f08"
      },
      "execution_count": null,
      "outputs": [
        {
          "output_type": "execute_result",
          "data": {
            "text/plain": [
              "      CustomerID  Gender  Age  Annual_Income  Spending_Score     Profession  \\\n",
              "0              1    Male   19          15000              39     Healthcare   \n",
              "1              2    Male   21          35000              81       Engineer   \n",
              "2              3  Female   20          86000               6       Engineer   \n",
              "3              4  Female   23          59000              77         Lawyer   \n",
              "4              5  Female   31          38000              40  Entertainment   \n",
              "...          ...     ...  ...            ...             ...            ...   \n",
              "1995        1996  Female   71         184387              40         Artist   \n",
              "1996        1997  Female   91          73158              32         Doctor   \n",
              "1997        1998    Male   87          90961              14     Healthcare   \n",
              "1998        1999    Male   77         182109               4      Executive   \n",
              "1999        2000    Male   90         110610              52  Entertainment   \n",
              "\n",
              "      Work_Experience  Family_Size  \n",
              "0                   1            4  \n",
              "1                   3            3  \n",
              "2                   1            1  \n",
              "3                   0            2  \n",
              "4                   2            6  \n",
              "...               ...          ...  \n",
              "1995                8            7  \n",
              "1996                7            7  \n",
              "1997                9            2  \n",
              "1998                7            2  \n",
              "1999                5            2  \n",
              "\n",
              "[2000 rows x 8 columns]"
            ],
            "text/html": [
              "\n",
              "  <div id=\"df-c9210b77-2d10-485a-8641-fedc905a43d9\">\n",
              "    <div class=\"colab-df-container\">\n",
              "      <div>\n",
              "<style scoped>\n",
              "    .dataframe tbody tr th:only-of-type {\n",
              "        vertical-align: middle;\n",
              "    }\n",
              "\n",
              "    .dataframe tbody tr th {\n",
              "        vertical-align: top;\n",
              "    }\n",
              "\n",
              "    .dataframe thead th {\n",
              "        text-align: right;\n",
              "    }\n",
              "</style>\n",
              "<table border=\"1\" class=\"dataframe\">\n",
              "  <thead>\n",
              "    <tr style=\"text-align: right;\">\n",
              "      <th></th>\n",
              "      <th>CustomerID</th>\n",
              "      <th>Gender</th>\n",
              "      <th>Age</th>\n",
              "      <th>Annual_Income</th>\n",
              "      <th>Spending_Score</th>\n",
              "      <th>Profession</th>\n",
              "      <th>Work_Experience</th>\n",
              "      <th>Family_Size</th>\n",
              "    </tr>\n",
              "  </thead>\n",
              "  <tbody>\n",
              "    <tr>\n",
              "      <th>0</th>\n",
              "      <td>1</td>\n",
              "      <td>Male</td>\n",
              "      <td>19</td>\n",
              "      <td>15000</td>\n",
              "      <td>39</td>\n",
              "      <td>Healthcare</td>\n",
              "      <td>1</td>\n",
              "      <td>4</td>\n",
              "    </tr>\n",
              "    <tr>\n",
              "      <th>1</th>\n",
              "      <td>2</td>\n",
              "      <td>Male</td>\n",
              "      <td>21</td>\n",
              "      <td>35000</td>\n",
              "      <td>81</td>\n",
              "      <td>Engineer</td>\n",
              "      <td>3</td>\n",
              "      <td>3</td>\n",
              "    </tr>\n",
              "    <tr>\n",
              "      <th>2</th>\n",
              "      <td>3</td>\n",
              "      <td>Female</td>\n",
              "      <td>20</td>\n",
              "      <td>86000</td>\n",
              "      <td>6</td>\n",
              "      <td>Engineer</td>\n",
              "      <td>1</td>\n",
              "      <td>1</td>\n",
              "    </tr>\n",
              "    <tr>\n",
              "      <th>3</th>\n",
              "      <td>4</td>\n",
              "      <td>Female</td>\n",
              "      <td>23</td>\n",
              "      <td>59000</td>\n",
              "      <td>77</td>\n",
              "      <td>Lawyer</td>\n",
              "      <td>0</td>\n",
              "      <td>2</td>\n",
              "    </tr>\n",
              "    <tr>\n",
              "      <th>4</th>\n",
              "      <td>5</td>\n",
              "      <td>Female</td>\n",
              "      <td>31</td>\n",
              "      <td>38000</td>\n",
              "      <td>40</td>\n",
              "      <td>Entertainment</td>\n",
              "      <td>2</td>\n",
              "      <td>6</td>\n",
              "    </tr>\n",
              "    <tr>\n",
              "      <th>...</th>\n",
              "      <td>...</td>\n",
              "      <td>...</td>\n",
              "      <td>...</td>\n",
              "      <td>...</td>\n",
              "      <td>...</td>\n",
              "      <td>...</td>\n",
              "      <td>...</td>\n",
              "      <td>...</td>\n",
              "    </tr>\n",
              "    <tr>\n",
              "      <th>1995</th>\n",
              "      <td>1996</td>\n",
              "      <td>Female</td>\n",
              "      <td>71</td>\n",
              "      <td>184387</td>\n",
              "      <td>40</td>\n",
              "      <td>Artist</td>\n",
              "      <td>8</td>\n",
              "      <td>7</td>\n",
              "    </tr>\n",
              "    <tr>\n",
              "      <th>1996</th>\n",
              "      <td>1997</td>\n",
              "      <td>Female</td>\n",
              "      <td>91</td>\n",
              "      <td>73158</td>\n",
              "      <td>32</td>\n",
              "      <td>Doctor</td>\n",
              "      <td>7</td>\n",
              "      <td>7</td>\n",
              "    </tr>\n",
              "    <tr>\n",
              "      <th>1997</th>\n",
              "      <td>1998</td>\n",
              "      <td>Male</td>\n",
              "      <td>87</td>\n",
              "      <td>90961</td>\n",
              "      <td>14</td>\n",
              "      <td>Healthcare</td>\n",
              "      <td>9</td>\n",
              "      <td>2</td>\n",
              "    </tr>\n",
              "    <tr>\n",
              "      <th>1998</th>\n",
              "      <td>1999</td>\n",
              "      <td>Male</td>\n",
              "      <td>77</td>\n",
              "      <td>182109</td>\n",
              "      <td>4</td>\n",
              "      <td>Executive</td>\n",
              "      <td>7</td>\n",
              "      <td>2</td>\n",
              "    </tr>\n",
              "    <tr>\n",
              "      <th>1999</th>\n",
              "      <td>2000</td>\n",
              "      <td>Male</td>\n",
              "      <td>90</td>\n",
              "      <td>110610</td>\n",
              "      <td>52</td>\n",
              "      <td>Entertainment</td>\n",
              "      <td>5</td>\n",
              "      <td>2</td>\n",
              "    </tr>\n",
              "  </tbody>\n",
              "</table>\n",
              "<p>2000 rows × 8 columns</p>\n",
              "</div>\n",
              "      <button class=\"colab-df-convert\" onclick=\"convertToInteractive('df-c9210b77-2d10-485a-8641-fedc905a43d9')\"\n",
              "              title=\"Convert this dataframe to an interactive table.\"\n",
              "              style=\"display:none;\">\n",
              "        \n",
              "  <svg xmlns=\"http://www.w3.org/2000/svg\" height=\"24px\"viewBox=\"0 0 24 24\"\n",
              "       width=\"24px\">\n",
              "    <path d=\"M0 0h24v24H0V0z\" fill=\"none\"/>\n",
              "    <path d=\"M18.56 5.44l.94 2.06.94-2.06 2.06-.94-2.06-.94-.94-2.06-.94 2.06-2.06.94zm-11 1L8.5 8.5l.94-2.06 2.06-.94-2.06-.94L8.5 2.5l-.94 2.06-2.06.94zm10 10l.94 2.06.94-2.06 2.06-.94-2.06-.94-.94-2.06-.94 2.06-2.06.94z\"/><path d=\"M17.41 7.96l-1.37-1.37c-.4-.4-.92-.59-1.43-.59-.52 0-1.04.2-1.43.59L10.3 9.45l-7.72 7.72c-.78.78-.78 2.05 0 2.83L4 21.41c.39.39.9.59 1.41.59.51 0 1.02-.2 1.41-.59l7.78-7.78 2.81-2.81c.8-.78.8-2.07 0-2.86zM5.41 20L4 18.59l7.72-7.72 1.47 1.35L5.41 20z\"/>\n",
              "  </svg>\n",
              "      </button>\n",
              "      \n",
              "  <style>\n",
              "    .colab-df-container {\n",
              "      display:flex;\n",
              "      flex-wrap:wrap;\n",
              "      gap: 12px;\n",
              "    }\n",
              "\n",
              "    .colab-df-convert {\n",
              "      background-color: #E8F0FE;\n",
              "      border: none;\n",
              "      border-radius: 50%;\n",
              "      cursor: pointer;\n",
              "      display: none;\n",
              "      fill: #1967D2;\n",
              "      height: 32px;\n",
              "      padding: 0 0 0 0;\n",
              "      width: 32px;\n",
              "    }\n",
              "\n",
              "    .colab-df-convert:hover {\n",
              "      background-color: #E2EBFA;\n",
              "      box-shadow: 0px 1px 2px rgba(60, 64, 67, 0.3), 0px 1px 3px 1px rgba(60, 64, 67, 0.15);\n",
              "      fill: #174EA6;\n",
              "    }\n",
              "\n",
              "    [theme=dark] .colab-df-convert {\n",
              "      background-color: #3B4455;\n",
              "      fill: #D2E3FC;\n",
              "    }\n",
              "\n",
              "    [theme=dark] .colab-df-convert:hover {\n",
              "      background-color: #434B5C;\n",
              "      box-shadow: 0px 1px 3px 1px rgba(0, 0, 0, 0.15);\n",
              "      filter: drop-shadow(0px 1px 2px rgba(0, 0, 0, 0.3));\n",
              "      fill: #FFFFFF;\n",
              "    }\n",
              "  </style>\n",
              "\n",
              "      <script>\n",
              "        const buttonEl =\n",
              "          document.querySelector('#df-c9210b77-2d10-485a-8641-fedc905a43d9 button.colab-df-convert');\n",
              "        buttonEl.style.display =\n",
              "          google.colab.kernel.accessAllowed ? 'block' : 'none';\n",
              "\n",
              "        async function convertToInteractive(key) {\n",
              "          const element = document.querySelector('#df-c9210b77-2d10-485a-8641-fedc905a43d9');\n",
              "          const dataTable =\n",
              "            await google.colab.kernel.invokeFunction('convertToInteractive',\n",
              "                                                     [key], {});\n",
              "          if (!dataTable) return;\n",
              "\n",
              "          const docLinkHtml = 'Like what you see? Visit the ' +\n",
              "            '<a target=\"_blank\" href=https://colab.research.google.com/notebooks/data_table.ipynb>data table notebook</a>'\n",
              "            + ' to learn more about interactive tables.';\n",
              "          element.innerHTML = '';\n",
              "          dataTable['output_type'] = 'display_data';\n",
              "          await google.colab.output.renderOutput(dataTable, element);\n",
              "          const docLink = document.createElement('div');\n",
              "          docLink.innerHTML = docLinkHtml;\n",
              "          element.appendChild(docLink);\n",
              "        }\n",
              "      </script>\n",
              "    </div>\n",
              "  </div>\n",
              "  "
            ]
          },
          "metadata": {},
          "execution_count": 53
        }
      ]
    },
    {
      "cell_type": "markdown",
      "source": [
        "## Calcula todas las medidas de tendencia central para 1 variable numérica y una categórica"
      ],
      "metadata": {
        "id": "BcworJePf9gW"
      }
    },
    {
      "cell_type": "code",
      "source": [
        "df.Annual_Income.mean()"
      ],
      "metadata": {
        "id": "ekE-f0TZgG3u",
        "colab": {
          "base_uri": "https://localhost:8080/"
        },
        "outputId": "82bce39d-4eb8-4713-dbca-a7cb32754766"
      },
      "execution_count": null,
      "outputs": [
        {
          "output_type": "execute_result",
          "data": {
            "text/plain": [
              "110731.8215"
            ]
          },
          "metadata": {},
          "execution_count": 54
        }
      ]
    },
    {
      "cell_type": "code",
      "source": [
        "df.Annual_Income.median()"
      ],
      "metadata": {
        "id": "-rwd3Q9AXQH4",
        "outputId": "66d355c0-478a-48d7-f6f2-47e9aea63aa4",
        "colab": {
          "base_uri": "https://localhost:8080/"
        }
      },
      "execution_count": null,
      "outputs": [
        {
          "output_type": "execute_result",
          "data": {
            "text/plain": [
              "110045.0"
            ]
          },
          "metadata": {},
          "execution_count": 55
        }
      ]
    },
    {
      "cell_type": "code",
      "source": [
        "df.Annual_Income.value_counts()"
      ],
      "metadata": {
        "colab": {
          "base_uri": "https://localhost:8080/"
        },
        "id": "z9roef1JnRrT",
        "outputId": "2cb238c1-8a41-4994-a87c-7b984c740e62"
      },
      "execution_count": null,
      "outputs": [
        {
          "output_type": "execute_result",
          "data": {
            "text/plain": [
              "50000     7\n",
              "9000      7\n",
              "97000     6\n",
              "85000     6\n",
              "4000      6\n",
              "         ..\n",
              "111859    1\n",
              "186655    1\n",
              "164598    1\n",
              "132951    1\n",
              "110610    1\n",
              "Name: Annual_Income, Length: 1786, dtype: int64"
            ]
          },
          "metadata": {},
          "execution_count": 56
        }
      ]
    },
    {
      "cell_type": "code",
      "source": [
        "df.Annual_Income.mode()"
      ],
      "metadata": {
        "colab": {
          "base_uri": "https://localhost:8080/"
        },
        "id": "ii7J5V5lqw42",
        "outputId": "db4e858f-5869-4f9d-d85b-753c9340ced6"
      },
      "execution_count": null,
      "outputs": [
        {
          "output_type": "execute_result",
          "data": {
            "text/plain": [
              "0     9000\n",
              "1    50000\n",
              "Name: Annual_Income, dtype: int64"
            ]
          },
          "metadata": {},
          "execution_count": 59
        }
      ]
    },
    {
      "cell_type": "code",
      "source": [
        "df.Profession.value_counts()"
      ],
      "metadata": {
        "colab": {
          "base_uri": "https://localhost:8080/"
        },
        "id": "ThRZg4uPjB-z",
        "outputId": "e0c37807-fe5b-45e7-ed00-d70d5f966fde"
      },
      "execution_count": null,
      "outputs": [
        {
          "output_type": "execute_result",
          "data": {
            "text/plain": [
              "Artist           612\n",
              "Healthcare       339\n",
              "Entertainment    234\n",
              "Engineer         179\n",
              "Doctor           161\n",
              "Executive        153\n",
              "Lawyer           142\n",
              "Marketing         85\n",
              "Homemaker         60\n",
              "Name: Profession, dtype: int64"
            ]
          },
          "metadata": {},
          "execution_count": 57
        }
      ]
    },
    {
      "cell_type": "code",
      "source": [
        "df.Profession.mode()"
      ],
      "metadata": {
        "colab": {
          "base_uri": "https://localhost:8080/"
        },
        "id": "SKOQalMZqslQ",
        "outputId": "3785586a-928a-41b0-d8b8-7b05dcd710ff"
      },
      "execution_count": null,
      "outputs": [
        {
          "output_type": "execute_result",
          "data": {
            "text/plain": [
              "0    Artist\n",
              "Name: Profession, dtype: object"
            ]
          },
          "metadata": {},
          "execution_count": 58
        }
      ]
    },
    {
      "cell_type": "markdown",
      "source": [
        "## Crea una tabla cruzada para dos variables"
      ],
      "metadata": {
        "id": "2fTyNw_qgJSC"
      }
    },
    {
      "cell_type": "code",
      "source": [
        "pd.crosstab(df.Gender,df.Profession)"
      ],
      "metadata": {
        "id": "N5PJfGvggLbX",
        "colab": {
          "base_uri": "https://localhost:8080/",
          "height": 143
        },
        "outputId": "1fe8d1e4-58df-4360-f8a5-cc2c31e54fea"
      },
      "execution_count": null,
      "outputs": [
        {
          "output_type": "execute_result",
          "data": {
            "text/plain": [
              "Profession  Artist  Doctor  Engineer  Entertainment  Executive  Healthcare  \\\n",
              "Gender                                                                       \n",
              "Female         380      89       103            133         87         196   \n",
              "Male           232      72        76            101         66         143   \n",
              "\n",
              "Profession  Homemaker  Lawyer  Marketing  \n",
              "Gender                                    \n",
              "Female             39      86         53  \n",
              "Male               21      56         32  "
            ],
            "text/html": [
              "\n",
              "  <div id=\"df-e883473e-8eb5-494a-bb48-4329dd9b8502\">\n",
              "    <div class=\"colab-df-container\">\n",
              "      <div>\n",
              "<style scoped>\n",
              "    .dataframe tbody tr th:only-of-type {\n",
              "        vertical-align: middle;\n",
              "    }\n",
              "\n",
              "    .dataframe tbody tr th {\n",
              "        vertical-align: top;\n",
              "    }\n",
              "\n",
              "    .dataframe thead th {\n",
              "        text-align: right;\n",
              "    }\n",
              "</style>\n",
              "<table border=\"1\" class=\"dataframe\">\n",
              "  <thead>\n",
              "    <tr style=\"text-align: right;\">\n",
              "      <th>Profession</th>\n",
              "      <th>Artist</th>\n",
              "      <th>Doctor</th>\n",
              "      <th>Engineer</th>\n",
              "      <th>Entertainment</th>\n",
              "      <th>Executive</th>\n",
              "      <th>Healthcare</th>\n",
              "      <th>Homemaker</th>\n",
              "      <th>Lawyer</th>\n",
              "      <th>Marketing</th>\n",
              "    </tr>\n",
              "    <tr>\n",
              "      <th>Gender</th>\n",
              "      <th></th>\n",
              "      <th></th>\n",
              "      <th></th>\n",
              "      <th></th>\n",
              "      <th></th>\n",
              "      <th></th>\n",
              "      <th></th>\n",
              "      <th></th>\n",
              "      <th></th>\n",
              "    </tr>\n",
              "  </thead>\n",
              "  <tbody>\n",
              "    <tr>\n",
              "      <th>Female</th>\n",
              "      <td>380</td>\n",
              "      <td>89</td>\n",
              "      <td>103</td>\n",
              "      <td>133</td>\n",
              "      <td>87</td>\n",
              "      <td>196</td>\n",
              "      <td>39</td>\n",
              "      <td>86</td>\n",
              "      <td>53</td>\n",
              "    </tr>\n",
              "    <tr>\n",
              "      <th>Male</th>\n",
              "      <td>232</td>\n",
              "      <td>72</td>\n",
              "      <td>76</td>\n",
              "      <td>101</td>\n",
              "      <td>66</td>\n",
              "      <td>143</td>\n",
              "      <td>21</td>\n",
              "      <td>56</td>\n",
              "      <td>32</td>\n",
              "    </tr>\n",
              "  </tbody>\n",
              "</table>\n",
              "</div>\n",
              "      <button class=\"colab-df-convert\" onclick=\"convertToInteractive('df-e883473e-8eb5-494a-bb48-4329dd9b8502')\"\n",
              "              title=\"Convert this dataframe to an interactive table.\"\n",
              "              style=\"display:none;\">\n",
              "        \n",
              "  <svg xmlns=\"http://www.w3.org/2000/svg\" height=\"24px\"viewBox=\"0 0 24 24\"\n",
              "       width=\"24px\">\n",
              "    <path d=\"M0 0h24v24H0V0z\" fill=\"none\"/>\n",
              "    <path d=\"M18.56 5.44l.94 2.06.94-2.06 2.06-.94-2.06-.94-.94-2.06-.94 2.06-2.06.94zm-11 1L8.5 8.5l.94-2.06 2.06-.94-2.06-.94L8.5 2.5l-.94 2.06-2.06.94zm10 10l.94 2.06.94-2.06 2.06-.94-2.06-.94-.94-2.06-.94 2.06-2.06.94z\"/><path d=\"M17.41 7.96l-1.37-1.37c-.4-.4-.92-.59-1.43-.59-.52 0-1.04.2-1.43.59L10.3 9.45l-7.72 7.72c-.78.78-.78 2.05 0 2.83L4 21.41c.39.39.9.59 1.41.59.51 0 1.02-.2 1.41-.59l7.78-7.78 2.81-2.81c.8-.78.8-2.07 0-2.86zM5.41 20L4 18.59l7.72-7.72 1.47 1.35L5.41 20z\"/>\n",
              "  </svg>\n",
              "      </button>\n",
              "      \n",
              "  <style>\n",
              "    .colab-df-container {\n",
              "      display:flex;\n",
              "      flex-wrap:wrap;\n",
              "      gap: 12px;\n",
              "    }\n",
              "\n",
              "    .colab-df-convert {\n",
              "      background-color: #E8F0FE;\n",
              "      border: none;\n",
              "      border-radius: 50%;\n",
              "      cursor: pointer;\n",
              "      display: none;\n",
              "      fill: #1967D2;\n",
              "      height: 32px;\n",
              "      padding: 0 0 0 0;\n",
              "      width: 32px;\n",
              "    }\n",
              "\n",
              "    .colab-df-convert:hover {\n",
              "      background-color: #E2EBFA;\n",
              "      box-shadow: 0px 1px 2px rgba(60, 64, 67, 0.3), 0px 1px 3px 1px rgba(60, 64, 67, 0.15);\n",
              "      fill: #174EA6;\n",
              "    }\n",
              "\n",
              "    [theme=dark] .colab-df-convert {\n",
              "      background-color: #3B4455;\n",
              "      fill: #D2E3FC;\n",
              "    }\n",
              "\n",
              "    [theme=dark] .colab-df-convert:hover {\n",
              "      background-color: #434B5C;\n",
              "      box-shadow: 0px 1px 3px 1px rgba(0, 0, 0, 0.15);\n",
              "      filter: drop-shadow(0px 1px 2px rgba(0, 0, 0, 0.3));\n",
              "      fill: #FFFFFF;\n",
              "    }\n",
              "  </style>\n",
              "\n",
              "      <script>\n",
              "        const buttonEl =\n",
              "          document.querySelector('#df-e883473e-8eb5-494a-bb48-4329dd9b8502 button.colab-df-convert');\n",
              "        buttonEl.style.display =\n",
              "          google.colab.kernel.accessAllowed ? 'block' : 'none';\n",
              "\n",
              "        async function convertToInteractive(key) {\n",
              "          const element = document.querySelector('#df-e883473e-8eb5-494a-bb48-4329dd9b8502');\n",
              "          const dataTable =\n",
              "            await google.colab.kernel.invokeFunction('convertToInteractive',\n",
              "                                                     [key], {});\n",
              "          if (!dataTable) return;\n",
              "\n",
              "          const docLinkHtml = 'Like what you see? Visit the ' +\n",
              "            '<a target=\"_blank\" href=https://colab.research.google.com/notebooks/data_table.ipynb>data table notebook</a>'\n",
              "            + ' to learn more about interactive tables.';\n",
              "          element.innerHTML = '';\n",
              "          dataTable['output_type'] = 'display_data';\n",
              "          await google.colab.output.renderOutput(dataTable, element);\n",
              "          const docLink = document.createElement('div');\n",
              "          docLink.innerHTML = docLinkHtml;\n",
              "          element.appendChild(docLink);\n",
              "        }\n",
              "      </script>\n",
              "    </div>\n",
              "  </div>\n",
              "  "
            ]
          },
          "metadata": {},
          "execution_count": 39
        }
      ]
    },
    {
      "cell_type": "markdown",
      "source": [
        "## Calcula la media para una variable numérica aplicando condiciones de O y de Y de dos variables\n",
        "\n",
        "Deberás presentar un ejercicio y y uno O"
      ],
      "metadata": {
        "id": "pXdgCuRHgQMD"
      }
    },
    {
      "cell_type": "code",
      "source": [
        "df[(df.Profession=='Engineer')&(df.Age>45)].Annual_Income.mean()"
      ],
      "metadata": {
        "id": "Zkqhi-rsgcSo",
        "colab": {
          "base_uri": "https://localhost:8080/"
        },
        "outputId": "87377de9-1b48-49be-eb90-5883ec2ef5f8"
      },
      "execution_count": null,
      "outputs": [
        {
          "output_type": "execute_result",
          "data": {
            "text/plain": [
              "112151.51785714286"
            ]
          },
          "metadata": {},
          "execution_count": 66
        }
      ]
    },
    {
      "cell_type": "code",
      "source": [
        "df[(df.Profession=='Engineer')|(df.Age>45)].Annual_Income.mean()"
      ],
      "metadata": {
        "colab": {
          "base_uri": "https://localhost:8080/"
        },
        "id": "mkB1XQOctXmN",
        "outputId": "6026f3ad-08d8-4166-802d-f47b09008710"
      },
      "execution_count": null,
      "outputs": [
        {
          "output_type": "execute_result",
          "data": {
            "text/plain": [
              "111699.23550401427"
            ]
          },
          "metadata": {},
          "execution_count": 67
        }
      ]
    },
    {
      "cell_type": "markdown",
      "source": [
        "## Utiliza Percentiles"
      ],
      "metadata": {
        "id": "MANiOxF9giWK"
      }
    },
    {
      "cell_type": "markdown",
      "source": [
        "Crea una tabla que presente el percentil enesimo (elegelo tu) por cada categoría"
      ],
      "metadata": {
        "id": "uP66H3oIgktW"
      }
    },
    {
      "cell_type": "code",
      "source": [
        "df.Annual_Income.quantile([0.9])"
      ],
      "metadata": {
        "id": "wAbb0s2YgrIN",
        "colab": {
          "base_uri": "https://localhost:8080/"
        },
        "outputId": "fb3b83f4-043f-4d4b-8bc2-50cb62a0222c"
      },
      "execution_count": null,
      "outputs": [
        {
          "output_type": "execute_result",
          "data": {
            "text/plain": [
              "0.9    173051.4\n",
              "Name: Annual_Income, dtype: float64"
            ]
          },
          "metadata": {},
          "execution_count": 70
        }
      ]
    },
    {
      "cell_type": "code",
      "source": [
        "df.Spending_Score.quantile([0.9])"
      ],
      "metadata": {
        "colab": {
          "base_uri": "https://localhost:8080/"
        },
        "id": "ea7e9kWTus4b",
        "outputId": "c2ff1153-b028-41c2-8d8a-e5d5787aa030"
      },
      "execution_count": null,
      "outputs": [
        {
          "output_type": "execute_result",
          "data": {
            "text/plain": [
              "0.9    90.0\n",
              "Name: Spending_Score, dtype: float64"
            ]
          },
          "metadata": {},
          "execution_count": 71
        }
      ]
    },
    {
      "cell_type": "markdown",
      "source": [
        "## Explora los datos"
      ],
      "metadata": {
        "id": "bgbM4rRtgrdn"
      }
    },
    {
      "cell_type": "markdown",
      "source": [
        "Identifica el comportamiento interesante de una variable categórica (Usando media, moda, percentiles etc) y escribe en tus palabras la razón que crees variable se comporta así"
      ],
      "metadata": {
        "id": "goey4pDLgtqK"
      }
    },
    {
      "cell_type": "code",
      "source": [
        "Profesion_sueldo = df.groupby(df.Profession).Annual_Income.mean()\n",
        "Profesion_sueldo"
      ],
      "metadata": {
        "colab": {
          "base_uri": "https://localhost:8080/"
        },
        "id": "k4uon-_6u-Es",
        "outputId": "d8182bb9-dac6-41bb-d4a9-256239945e97"
      },
      "execution_count": null,
      "outputs": [
        {
          "output_type": "execute_result",
          "data": {
            "text/plain": [
              "Profession\n",
              "Artist           108776.580065\n",
              "Doctor           111573.217391\n",
              "Engineer         111161.240223\n",
              "Entertainment    110650.333333\n",
              "Executive        113770.130719\n",
              "Healthcare       112574.041298\n",
              "Homemaker        108758.616667\n",
              "Lawyer           110995.838028\n",
              "Marketing        107994.211765\n",
              "Name: Annual_Income, dtype: float64"
            ]
          },
          "metadata": {},
          "execution_count": 86
        }
      ]
    },
    {
      "cell_type": "code",
      "source": [
        "Profesion_sueldo.sort_values(ascending=False)"
      ],
      "metadata": {
        "colab": {
          "base_uri": "https://localhost:8080/"
        },
        "id": "6eMXs_OBv3wI",
        "outputId": "479b3ce2-2bb3-4fcd-ae9d-3f0013325e78"
      },
      "execution_count": null,
      "outputs": [
        {
          "output_type": "execute_result",
          "data": {
            "text/plain": [
              "Profession\n",
              "Executive        113770.130719\n",
              "Healthcare       112574.041298\n",
              "Doctor           111573.217391\n",
              "Engineer         111161.240223\n",
              "Lawyer           110995.838028\n",
              "Entertainment    110650.333333\n",
              "Artist           108776.580065\n",
              "Homemaker        108758.616667\n",
              "Marketing        107994.211765\n",
              "Name: Annual_Income, dtype: float64"
            ]
          },
          "metadata": {},
          "execution_count": 87
        }
      ]
    },
    {
      "cell_type": "code",
      "source": [
        "Profesion_sueldo.quantile(0.9)"
      ],
      "metadata": {
        "colab": {
          "base_uri": "https://localhost:8080/"
        },
        "id": "MKw9EVlfxHU-",
        "outputId": "8a9ba77d-1fc0-4db3-fb74-971e4ce78388"
      },
      "execution_count": null,
      "outputs": [
        {
          "output_type": "execute_result",
          "data": {
            "text/plain": [
              "112813.25918213894"
            ]
          },
          "metadata": {},
          "execution_count": 88
        }
      ]
    },
    {
      "cell_type": "code",
      "source": [
        "Profesion_sueldo.quantile(0.5)"
      ],
      "metadata": {
        "colab": {
          "base_uri": "https://localhost:8080/"
        },
        "id": "AouergaDygPD",
        "outputId": "b25b5c37-e441-49d7-9138-89598ed45351"
      },
      "execution_count": null,
      "outputs": [
        {
          "output_type": "execute_result",
          "data": {
            "text/plain": [
              "110995.83802816902"
            ]
          },
          "metadata": {},
          "execution_count": 92
        }
      ]
    },
    {
      "cell_type": "code",
      "source": [
        "Profesion_edad = df.groupby(df.Profession).Age.mean()\n",
        "Profesion_edad"
      ],
      "metadata": {
        "colab": {
          "base_uri": "https://localhost:8080/"
        },
        "id": "Y9iEErEUxM2_",
        "outputId": "030f199d-7ee6-4c4e-86ec-5df0db2896ed"
      },
      "execution_count": null,
      "outputs": [
        {
          "output_type": "execute_result",
          "data": {
            "text/plain": [
              "Profession\n",
              "Artist           49.004902\n",
              "Doctor           46.621118\n",
              "Engineer         55.094972\n",
              "Entertainment    51.162393\n",
              "Executive        46.601307\n",
              "Healthcare       47.843658\n",
              "Homemaker        45.366667\n",
              "Lawyer           47.753521\n",
              "Marketing        45.823529\n",
              "Name: Age, dtype: float64"
            ]
          },
          "metadata": {},
          "execution_count": 90
        }
      ]
    },
    {
      "cell_type": "code",
      "source": [
        "Profesion_edad.sort_values(ascending=False)"
      ],
      "metadata": {
        "colab": {
          "base_uri": "https://localhost:8080/"
        },
        "id": "UJjJBpjMxmlo",
        "outputId": "417179b8-c5a4-43e2-f627-848e3ed7008f"
      },
      "execution_count": null,
      "outputs": [
        {
          "output_type": "execute_result",
          "data": {
            "text/plain": [
              "Profession\n",
              "Engineer         55.094972\n",
              "Entertainment    51.162393\n",
              "Artist           49.004902\n",
              "Healthcare       47.843658\n",
              "Lawyer           47.753521\n",
              "Doctor           46.621118\n",
              "Executive        46.601307\n",
              "Marketing        45.823529\n",
              "Homemaker        45.366667\n",
              "Name: Age, dtype: float64"
            ]
          },
          "metadata": {},
          "execution_count": 91
        }
      ]
    },
    {
      "cell_type": "markdown",
      "source": [
        "Los ejecutivos son los que reciben los sueldos mas grandes a pesar que no son los que en promedio tienen más edad. Esto se debe a que tienen puestos importantes y sus aumentos se basan más por su experiencia laboral que por sus estudios.\n",
        "Al contrario, ejemplos como los artistas con trabajos menos estables se explica porque ni siquiera entran en el 50% de los que ganan más. A pesar que sean los que en promedio tengan más años de edad, su trabajo no es tan crucial como el de un ejecutivo y además se necesita mucha perfección de la técnica, por eso tantos años.\n",
        "Si hago un estudio por ejemplo sobre que recomendaría estudiar para obtener éxito más rapidamente, optaría por ser ejecutivo: Menos tiempo a mejor salario."
      ],
      "metadata": {
        "id": "o8jRHgNsx4Lj"
      }
    }
  ]
}