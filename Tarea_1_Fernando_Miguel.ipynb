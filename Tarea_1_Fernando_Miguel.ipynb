{
  "nbformat": 4,
  "nbformat_minor": 0,
  "metadata": {
    "colab": {
      "provenance": [],
      "include_colab_link": true
    },
    "kernelspec": {
      "name": "python3",
      "display_name": "Python 3"
    },
    "language_info": {
      "name": "python"
    }
  },
  "cells": [
    {
      "cell_type": "markdown",
      "metadata": {
        "id": "view-in-github",
        "colab_type": "text"
      },
      "source": [
        "<a href=\"https://colab.research.google.com/github/FernandoMV1/DS1--Python/blob/main/Tarea_1_Fernando_Miguel.ipynb\" target=\"_parent\"><img src=\"https://colab.research.google.com/assets/colab-badge.svg\" alt=\"Open In Colab\"/></a>"
      ]
    },
    {
      "cell_type": "markdown",
      "source": [
        "Para completar esta tarea deberá crear una copia de este cuaderno de trabajo en su Google Drive, luego compartir el link publicamente y subirlo a moodle."
      ],
      "metadata": {
        "id": "HENJOqKQM_HT"
      }
    },
    {
      "cell_type": "markdown",
      "source": [
        "# Incluir Numpy\n",
        "Usando la funcion import, declare la librería Numpy como np recuerde que solamente debe hacerlo una vez en su cuaderno"
      ],
      "metadata": {
        "id": "Z28QpftgMyla"
      }
    },
    {
      "cell_type": "code",
      "source": [
        "import numpy as np"
      ],
      "metadata": {
        "id": "fUjgIDIyM8wa"
      },
      "execution_count": null,
      "outputs": []
    },
    {
      "cell_type": "markdown",
      "source": [
        "# Declaración de Variables\n",
        "Para cada una de las matrices presentadas, declarelas dentro de una variable en python"
      ],
      "metadata": {
        "id": "XIl56irhMH6s"
      }
    },
    {
      "cell_type": "markdown",
      "source": [
        "$$\n",
        "A = \\begin{pmatrix}\n",
        "1 & 2\\\\\n",
        "3 & 4\n",
        "\\end{pmatrix}\n",
        "$$\n"
      ],
      "metadata": {
        "id": "n-gZzLFOB5rg"
      }
    },
    {
      "cell_type": "code",
      "source": [
        "A = np.matrix ([[1,2],[3,4]])\n",
        "A"
      ],
      "metadata": {
        "id": "U0TflKxMMTIz",
        "colab": {
          "base_uri": "https://localhost:8080/"
        },
        "outputId": "1a4d0e76-9609-47d1-d8c0-18619dd45d0c"
      },
      "execution_count": null,
      "outputs": [
        {
          "output_type": "execute_result",
          "data": {
            "text/plain": [
              "matrix([[1, 2],\n",
              "        [3, 4]])"
            ]
          },
          "metadata": {},
          "execution_count": 3
        }
      ]
    },
    {
      "cell_type": "markdown",
      "source": [
        "\n",
        "$$\n",
        "B = \\begin{pmatrix}\n",
        "5 & 6\\\\\n",
        "7 & 8\n",
        "\\end{pmatrix}\n",
        "$$\n"
      ],
      "metadata": {
        "id": "cO4CAR4YMTt2"
      }
    },
    {
      "cell_type": "code",
      "source": [
        "B = np.matrix ([[5,6],[7,8]])\n",
        "B"
      ],
      "metadata": {
        "id": "n99OpHKUMHMJ",
        "colab": {
          "base_uri": "https://localhost:8080/"
        },
        "outputId": "a0d8073c-e85d-4d8f-ae54-4d9a8f619f60"
      },
      "execution_count": null,
      "outputs": [
        {
          "output_type": "execute_result",
          "data": {
            "text/plain": [
              "matrix([[5, 6],\n",
              "        [7, 8]])"
            ]
          },
          "metadata": {},
          "execution_count": 4
        }
      ]
    },
    {
      "cell_type": "markdown",
      "source": [
        "\n",
        "$$\n",
        "C = \\begin{pmatrix}\n",
        "-1 & 0\\\\\n",
        "2 & 3\n",
        "\\end{pmatrix}\n",
        "$$\n"
      ],
      "metadata": {
        "id": "dJ6JwlpbMWku"
      }
    },
    {
      "cell_type": "code",
      "source": [
        "C = np.matrix ([[-1,0],[2,3]])\n",
        "C"
      ],
      "metadata": {
        "id": "4cRrhPH3MaUS",
        "colab": {
          "base_uri": "https://localhost:8080/"
        },
        "outputId": "4f288b39-7b90-4fff-b367-30c7157b94fa"
      },
      "execution_count": null,
      "outputs": [
        {
          "output_type": "execute_result",
          "data": {
            "text/plain": [
              "matrix([[-1,  0],\n",
              "        [ 2,  3]])"
            ]
          },
          "metadata": {},
          "execution_count": 5
        }
      ]
    },
    {
      "cell_type": "markdown",
      "source": [
        "\n",
        "$$\n",
        "D = \\begin{pmatrix}\n",
        "2 & -3\\\\\n",
        "-4 & 5\n",
        "\\end{pmatrix}\n",
        "$$\n"
      ],
      "metadata": {
        "id": "IjeVXBtbMZ0j"
      }
    },
    {
      "cell_type": "code",
      "source": [
        "D = np.matrix ([[2,-3],[-4,5]])\n",
        "D"
      ],
      "metadata": {
        "id": "2z2PI0n4MdTT",
        "colab": {
          "base_uri": "https://localhost:8080/"
        },
        "outputId": "a1564805-288d-4243-ecd6-8758a35dd4ac"
      },
      "execution_count": null,
      "outputs": [
        {
          "output_type": "execute_result",
          "data": {
            "text/plain": [
              "matrix([[ 2, -3],\n",
              "        [-4,  5]])"
            ]
          },
          "metadata": {},
          "execution_count": 6
        }
      ]
    },
    {
      "cell_type": "markdown",
      "source": [
        "\n",
        "$$\n",
        "E = \\begin{pmatrix}\n",
        "0 & 1\\\\\n",
        "1 & 0\n",
        "\\end{pmatrix}\n",
        "$$\n"
      ],
      "metadata": {
        "id": "Qw4YKLhrMdkm"
      }
    },
    {
      "cell_type": "code",
      "source": [
        "E = np.matrix ([[0,1],[1,0]])\n",
        "E"
      ],
      "metadata": {
        "id": "LQT3tok_MgYg",
        "colab": {
          "base_uri": "https://localhost:8080/"
        },
        "outputId": "8a8f1524-2b83-40e6-9777-1bdeef295070"
      },
      "execution_count": null,
      "outputs": [
        {
          "output_type": "execute_result",
          "data": {
            "text/plain": [
              "matrix([[0, 1],\n",
              "        [1, 0]])"
            ]
          },
          "metadata": {},
          "execution_count": 7
        }
      ]
    },
    {
      "cell_type": "markdown",
      "source": [
        "\n",
        "$$\n",
        "F = \\begin{pmatrix}\n",
        "1 & 2 & 3\\\\\n",
        "4 & 5 & 6\\\\\n",
        "7 & 8 & 9\n",
        "\\end{pmatrix}\n",
        "$$\n"
      ],
      "metadata": {
        "id": "-oskADqVMf9L"
      }
    },
    {
      "cell_type": "code",
      "source": [
        "F = np.matrix ([[1,2,3],[4,5,6],[7,8,9]])\n",
        "F"
      ],
      "metadata": {
        "id": "D4e5qlSZMi-7",
        "colab": {
          "base_uri": "https://localhost:8080/"
        },
        "outputId": "da20f074-4562-4ff2-e3e5-44b87c42baa0"
      },
      "execution_count": null,
      "outputs": [
        {
          "output_type": "execute_result",
          "data": {
            "text/plain": [
              "matrix([[1, 2, 3],\n",
              "        [4, 5, 6],\n",
              "        [7, 8, 9]])"
            ]
          },
          "metadata": {},
          "execution_count": 8
        }
      ]
    },
    {
      "cell_type": "markdown",
      "source": [
        "\n",
        "$$\n",
        "G = \\begin{pmatrix}\n",
        "-2 & 0 & 1\\\\\n",
        "3 & -1 & 2\\\\\n",
        "0 & 4 & 5\n",
        "\\end{pmatrix}\n",
        "$$\n"
      ],
      "metadata": {
        "id": "vxUrS123MjUg"
      }
    },
    {
      "cell_type": "code",
      "source": [
        "G = np.matrix ([[-2,0,1],[3,-1,2],[0,4,5]])\n",
        "G"
      ],
      "metadata": {
        "id": "Swq7dzHDMlBP",
        "colab": {
          "base_uri": "https://localhost:8080/"
        },
        "outputId": "65200eb7-097b-475d-8622-5f2f70382ab4"
      },
      "execution_count": null,
      "outputs": [
        {
          "output_type": "execute_result",
          "data": {
            "text/plain": [
              "matrix([[-2,  0,  1],\n",
              "        [ 3, -1,  2],\n",
              "        [ 0,  4,  5]])"
            ]
          },
          "metadata": {},
          "execution_count": 9
        }
      ]
    },
    {
      "cell_type": "markdown",
      "source": [
        "\n",
        "$$\n",
        "H = \\begin{pmatrix}\n",
        "1 & 2 & -1\\\\\n",
        "-3 & 0 & 4\\\\\n",
        "2 & -1 & 2\n",
        "\\end{pmatrix}\n",
        "$$\n"
      ],
      "metadata": {
        "id": "OLyaA16-MlYL"
      }
    },
    {
      "cell_type": "code",
      "source": [
        "H = np.matrix ([[1,2,-1],[-3,0,4],[2,-1,2]])\n",
        "H"
      ],
      "metadata": {
        "id": "H2ENb4hZMpgP",
        "colab": {
          "base_uri": "https://localhost:8080/"
        },
        "outputId": "69ac1d8a-0a4a-4b09-a0d9-e11ad8582f27"
      },
      "execution_count": null,
      "outputs": [
        {
          "output_type": "execute_result",
          "data": {
            "text/plain": [
              "matrix([[ 1,  2, -1],\n",
              "        [-3,  0,  4],\n",
              "        [ 2, -1,  2]])"
            ]
          },
          "metadata": {},
          "execution_count": 10
        }
      ]
    },
    {
      "cell_type": "markdown",
      "source": [
        "\n",
        "$$\n",
        "I = \\begin{pmatrix}\n",
        "0 & 1 & 0\\\\\n",
        "0 & 0 & 1\\\\\n",
        "1 & 0 & 0\n",
        "\\end{pmatrix}\n",
        "$$\n"
      ],
      "metadata": {
        "id": "d6OliMC4Mp4z"
      }
    },
    {
      "cell_type": "code",
      "source": [
        "I = np.matrix ([[0,1,0],[0,0,1],[1,0,0]])\n",
        "I"
      ],
      "metadata": {
        "id": "E3HdBYxlMsXP",
        "colab": {
          "base_uri": "https://localhost:8080/"
        },
        "outputId": "cc244572-c931-45f1-a83c-14a52c378379"
      },
      "execution_count": null,
      "outputs": [
        {
          "output_type": "execute_result",
          "data": {
            "text/plain": [
              "matrix([[0, 1, 0],\n",
              "        [0, 0, 1],\n",
              "        [1, 0, 0]])"
            ]
          },
          "metadata": {},
          "execution_count": 11
        }
      ]
    },
    {
      "cell_type": "markdown",
      "source": [
        "\n",
        "$$\n",
        "J = \\begin{pmatrix}\n",
        "1 & 0 & 0\\\\\n",
        "0 & 1 & 0\\\\\n",
        "0 & 0 & 1\n",
        "\\end{pmatrix}\n",
        "$$"
      ],
      "metadata": {
        "id": "_o66MVL-Ms7T"
      }
    },
    {
      "cell_type": "code",
      "source": [
        "J = np.matrix ([[1,0,0],[0,1,0],[0,0,1]])\n",
        "J"
      ],
      "metadata": {
        "id": "QtEFTL9IMtin",
        "colab": {
          "base_uri": "https://localhost:8080/"
        },
        "outputId": "8e677667-ecf7-4730-fb93-72757ea077a2"
      },
      "execution_count": null,
      "outputs": [
        {
          "output_type": "execute_result",
          "data": {
            "text/plain": [
              "matrix([[1, 0, 0],\n",
              "        [0, 1, 0],\n",
              "        [0, 0, 1]])"
            ]
          },
          "metadata": {},
          "execution_count": 12
        }
      ]
    },
    {
      "cell_type": "markdown",
      "source": [],
      "metadata": {
        "id": "opnq0XWZMwlg"
      }
    },
    {
      "cell_type": "markdown",
      "source": [
        "# Suma de Matrices\n",
        "\n",
        "\n"
      ],
      "metadata": {
        "id": "Agzjv43jFeHy"
      }
    },
    {
      "cell_type": "markdown",
      "source": [
        "Dadas las matrices $A$  y $C$ , calcule la matriz resultante de la suma $A$+$C$"
      ],
      "metadata": {
        "id": "pXbqQ150GgTD"
      }
    },
    {
      "cell_type": "code",
      "source": [
        "A + C"
      ],
      "metadata": {
        "id": "oyS3s64QGh3i",
        "colab": {
          "base_uri": "https://localhost:8080/"
        },
        "outputId": "d84e2b38-f5d7-4f09-f2b6-6713542f4693"
      },
      "execution_count": null,
      "outputs": [
        {
          "output_type": "execute_result",
          "data": {
            "text/plain": [
              "matrix([[0, 2],\n",
              "        [5, 7]])"
            ]
          },
          "metadata": {},
          "execution_count": 13
        }
      ]
    },
    {
      "cell_type": "markdown",
      "source": [
        "\n",
        "\n",
        "Dadas las matrices $B$  y $F$ , calcule la matriz resultante de la suma $B$+$F$\n"
      ],
      "metadata": {
        "id": "H_aYvlB3GiRX"
      }
    },
    {
      "cell_type": "code",
      "source": [
        "B + F"
      ],
      "metadata": {
        "id": "jHMsNEpbGkRK",
        "colab": {
          "base_uri": "https://localhost:8080/",
          "height": 165
        },
        "outputId": "26e9098f-d189-47a8-8faf-74add4469b3d"
      },
      "execution_count": null,
      "outputs": [
        {
          "output_type": "error",
          "ename": "ValueError",
          "evalue": "ignored",
          "traceback": [
            "\u001b[0;31m---------------------------------------------------------------------------\u001b[0m",
            "\u001b[0;31mValueError\u001b[0m                                Traceback (most recent call last)",
            "\u001b[0;32m<ipython-input-15-846876753689>\u001b[0m in \u001b[0;36m<module>\u001b[0;34m\u001b[0m\n\u001b[0;32m----> 1\u001b[0;31m \u001b[0mB\u001b[0m \u001b[0;34m+\u001b[0m \u001b[0mF\u001b[0m\u001b[0;34m\u001b[0m\u001b[0;34m\u001b[0m\u001b[0m\n\u001b[0m",
            "\u001b[0;31mValueError\u001b[0m: operands could not be broadcast together with shapes (2,2) (3,3) "
          ]
        }
      ]
    },
    {
      "cell_type": "markdown",
      "source": [
        "!!!!!!!Las matrices **no son del mismo tamano** por eso no se puee realizar la suma\n",
        "\n",
        "---\n",
        "\n",
        "\n"
      ],
      "metadata": {
        "id": "HUOiGhFRR8EE"
      }
    },
    {
      "cell_type": "markdown",
      "source": [
        "\n",
        "Dadas las matrices $D$ y $I$, calcule la matriz resultante de la suma $D$+$I$ *$D$"
      ],
      "metadata": {
        "id": "RJtDD4x1Gkma"
      }
    },
    {
      "cell_type": "code",
      "source": [
        "D + I\n"
      ],
      "metadata": {
        "id": "Mkmexn8qGl5x",
        "colab": {
          "base_uri": "https://localhost:8080/",
          "height": 165
        },
        "outputId": "2434d744-4dcf-445a-a3d8-7370731380e5"
      },
      "execution_count": null,
      "outputs": [
        {
          "output_type": "error",
          "ename": "ValueError",
          "evalue": "ignored",
          "traceback": [
            "\u001b[0;31m---------------------------------------------------------------------------\u001b[0m",
            "\u001b[0;31mValueError\u001b[0m                                Traceback (most recent call last)",
            "\u001b[0;32m<ipython-input-16-8a13f959431c>\u001b[0m in \u001b[0;36m<module>\u001b[0;34m\u001b[0m\n\u001b[0;32m----> 1\u001b[0;31m \u001b[0mD\u001b[0m \u001b[0;34m+\u001b[0m \u001b[0mI\u001b[0m\u001b[0;34m\u001b[0m\u001b[0;34m\u001b[0m\u001b[0m\n\u001b[0m",
            "\u001b[0;31mValueError\u001b[0m: operands could not be broadcast together with shapes (2,2) (3,3) "
          ]
        }
      ]
    },
    {
      "cell_type": "markdown",
      "source": [
        "!!!!!!!Las matrices **no son del mismo tamano** por eso no se puee realizar la suma\n"
      ],
      "metadata": {
        "id": "WbaPYoKXScVk"
      }
    },
    {
      "cell_type": "markdown",
      "source": [
        "\n",
        "\n",
        "Dadas las matrices $E$ y $H$ , calcule la matriz resultante de la suma $E$+$H$"
      ],
      "metadata": {
        "id": "TLD0lGF_GmMy"
      }
    },
    {
      "cell_type": "code",
      "source": [
        "E + H"
      ],
      "metadata": {
        "id": "IKmZoZsSGou6",
        "colab": {
          "base_uri": "https://localhost:8080/",
          "height": 165
        },
        "outputId": "8f03e691-4c2a-4b7a-fa6f-c00ded6d9977"
      },
      "execution_count": null,
      "outputs": [
        {
          "output_type": "error",
          "ename": "ValueError",
          "evalue": "ignored",
          "traceback": [
            "\u001b[0;31m---------------------------------------------------------------------------\u001b[0m",
            "\u001b[0;31mValueError\u001b[0m                                Traceback (most recent call last)",
            "\u001b[0;32m<ipython-input-17-b38e396d8455>\u001b[0m in \u001b[0;36m<module>\u001b[0;34m\u001b[0m\n\u001b[0;32m----> 1\u001b[0;31m \u001b[0mE\u001b[0m \u001b[0;34m+\u001b[0m \u001b[0mH\u001b[0m\u001b[0;34m\u001b[0m\u001b[0;34m\u001b[0m\u001b[0m\n\u001b[0m",
            "\u001b[0;31mValueError\u001b[0m: operands could not be broadcast together with shapes (2,2) (3,3) "
          ]
        }
      ]
    },
    {
      "cell_type": "markdown",
      "source": [
        "!!!!!!!Las matrices **no son del mismo tamano** por eso no se puee realizar la suma"
      ],
      "metadata": {
        "id": "Mmqi8sIypHS-"
      }
    },
    {
      "cell_type": "markdown",
      "source": [
        "\n",
        "\n",
        "Dadas las matrices $G$  y $J$ , calcule la matriz resultante de la suma $G$+$J$"
      ],
      "metadata": {
        "id": "T1-AZhi7Gn3e"
      }
    },
    {
      "cell_type": "code",
      "source": [
        "G + J"
      ],
      "metadata": {
        "id": "1ZrFXKsGGpLh",
        "colab": {
          "base_uri": "https://localhost:8080/"
        },
        "outputId": "18af5ce4-42a9-4d86-b002-47ae9f34f3e2"
      },
      "execution_count": null,
      "outputs": [
        {
          "output_type": "execute_result",
          "data": {
            "text/plain": [
              "matrix([[-1,  0,  1],\n",
              "        [ 3,  0,  2],\n",
              "        [ 0,  4,  6]])"
            ]
          },
          "metadata": {},
          "execution_count": 18
        }
      ]
    },
    {
      "cell_type": "markdown",
      "source": [
        "# Resta de Matrices"
      ],
      "metadata": {
        "id": "0hrjgzWYGp8F"
      }
    },
    {
      "cell_type": "markdown",
      "source": [
        "Dadas las matrices $A$\n",
        " y $D$\n",
        ", calcule la matriz resultante de la resta $A$−$D$\n",
        "\n"
      ],
      "metadata": {
        "id": "BE0sih25Grqi"
      }
    },
    {
      "cell_type": "code",
      "source": [
        "A-D"
      ],
      "metadata": {
        "id": "G8Qo-3joHC6t",
        "colab": {
          "base_uri": "https://localhost:8080/"
        },
        "outputId": "e3378f49-e579-4413-ba13-6e68bbd2497e"
      },
      "execution_count": null,
      "outputs": [
        {
          "output_type": "execute_result",
          "data": {
            "text/plain": [
              "matrix([[-1,  5],\n",
              "        [ 7, -1]])"
            ]
          },
          "metadata": {},
          "execution_count": 19
        }
      ]
    },
    {
      "cell_type": "markdown",
      "source": [
        "Dadas las matrices $B$\n",
        " y $G$\n",
        ", calcule la matriz resultante de la resta $B$−$G$\n"
      ],
      "metadata": {
        "id": "3VW5Jc9EHDPh"
      }
    },
    {
      "cell_type": "code",
      "source": [
        "B-G"
      ],
      "metadata": {
        "id": "ssQgexMDHEd9",
        "colab": {
          "base_uri": "https://localhost:8080/",
          "height": 165
        },
        "outputId": "af77d5af-2c58-4ba4-aec1-c96a53a8eb7a"
      },
      "execution_count": null,
      "outputs": [
        {
          "output_type": "error",
          "ename": "ValueError",
          "evalue": "ignored",
          "traceback": [
            "\u001b[0;31m---------------------------------------------------------------------------\u001b[0m",
            "\u001b[0;31mValueError\u001b[0m                                Traceback (most recent call last)",
            "\u001b[0;32m<ipython-input-20-b2fcc0c68b32>\u001b[0m in \u001b[0;36m<module>\u001b[0;34m\u001b[0m\n\u001b[0;32m----> 1\u001b[0;31m \u001b[0mB\u001b[0m\u001b[0;34m-\u001b[0m\u001b[0mG\u001b[0m\u001b[0;34m\u001b[0m\u001b[0;34m\u001b[0m\u001b[0m\n\u001b[0m",
            "\u001b[0;31mValueError\u001b[0m: operands could not be broadcast together with shapes (2,2) (3,3) "
          ]
        }
      ]
    },
    {
      "cell_type": "markdown",
      "source": [
        "!!!!!!!Las matrices **no son del mismo tamano** por eso no se puee realizar la resta"
      ],
      "metadata": {
        "id": "qlusqGnlpJOm"
      }
    },
    {
      "cell_type": "markdown",
      "source": [
        "\n",
        "Dadas las matrices $C$\n",
        " y $F$\n",
        ", calcule la matriz resultante de la resta $C$−$F$\n"
      ],
      "metadata": {
        "id": "3-VaO6eFHEyR"
      }
    },
    {
      "cell_type": "code",
      "source": [
        "C-F"
      ],
      "metadata": {
        "id": "9hb9mHsAHGax",
        "colab": {
          "base_uri": "https://localhost:8080/",
          "height": 165
        },
        "outputId": "4d76c4f8-d3a0-4630-ee23-4f51554c5cf0"
      },
      "execution_count": null,
      "outputs": [
        {
          "output_type": "error",
          "ename": "ValueError",
          "evalue": "ignored",
          "traceback": [
            "\u001b[0;31m---------------------------------------------------------------------------\u001b[0m",
            "\u001b[0;31mValueError\u001b[0m                                Traceback (most recent call last)",
            "\u001b[0;32m<ipython-input-21-bdc78917c1af>\u001b[0m in \u001b[0;36m<module>\u001b[0;34m\u001b[0m\n\u001b[0;32m----> 1\u001b[0;31m \u001b[0mC\u001b[0m\u001b[0;34m-\u001b[0m\u001b[0mF\u001b[0m\u001b[0;34m\u001b[0m\u001b[0;34m\u001b[0m\u001b[0m\n\u001b[0m",
            "\u001b[0;31mValueError\u001b[0m: operands could not be broadcast together with shapes (2,2) (3,3) "
          ]
        }
      ]
    },
    {
      "cell_type": "markdown",
      "source": [
        "!!!!!!!Las matrices **no son del mismo tamano** por eso no se puee realizar la resta"
      ],
      "metadata": {
        "id": "WZRskIQOpMyg"
      }
    },
    {
      "cell_type": "markdown",
      "source": [
        "Dadas las matrices $E$\n",
        " y $I$\n",
        ", calcule la matriz resultante de la resta $E$−$I$\n"
      ],
      "metadata": {
        "id": "girXoPZVHGvF"
      }
    },
    {
      "cell_type": "code",
      "source": [
        "E-I"
      ],
      "metadata": {
        "id": "3tgR-sfKHKrh",
        "colab": {
          "base_uri": "https://localhost:8080/",
          "height": 165
        },
        "outputId": "07ab04ff-41dc-4fe4-e2ea-0aafe6615f97"
      },
      "execution_count": null,
      "outputs": [
        {
          "output_type": "error",
          "ename": "ValueError",
          "evalue": "ignored",
          "traceback": [
            "\u001b[0;31m---------------------------------------------------------------------------\u001b[0m",
            "\u001b[0;31mValueError\u001b[0m                                Traceback (most recent call last)",
            "\u001b[0;32m<ipython-input-22-94695a627e49>\u001b[0m in \u001b[0;36m<module>\u001b[0;34m\u001b[0m\n\u001b[0;32m----> 1\u001b[0;31m \u001b[0mE\u001b[0m\u001b[0;34m-\u001b[0m\u001b[0mI\u001b[0m\u001b[0;34m\u001b[0m\u001b[0;34m\u001b[0m\u001b[0m\n\u001b[0m",
            "\u001b[0;31mValueError\u001b[0m: operands could not be broadcast together with shapes (2,2) (3,3) "
          ]
        }
      ]
    },
    {
      "cell_type": "markdown",
      "source": [
        "!!!!!!!Las matrices **no son del mismo tamano** por eso no se puee realizar la resta"
      ],
      "metadata": {
        "id": "ixcCAh8GpOkJ"
      }
    },
    {
      "cell_type": "markdown",
      "source": [
        "\n",
        "Dadas las matrices $H$\n",
        " y $J$\n",
        ", calcule la matriz resultante de la resta H−J"
      ],
      "metadata": {
        "id": "XBk0kALnHK-B"
      }
    },
    {
      "cell_type": "code",
      "source": [
        "H-J"
      ],
      "metadata": {
        "id": "cnvImeeGHNfB",
        "colab": {
          "base_uri": "https://localhost:8080/"
        },
        "outputId": "1a712635-c510-40f6-b130-b754c321db29"
      },
      "execution_count": null,
      "outputs": [
        {
          "output_type": "execute_result",
          "data": {
            "text/plain": [
              "matrix([[ 0,  2, -1],\n",
              "        [-3, -1,  4],\n",
              "        [ 2, -1,  1]])"
            ]
          },
          "metadata": {},
          "execution_count": 23
        }
      ]
    },
    {
      "cell_type": "markdown",
      "source": [
        "#multiplicación de matrices"
      ],
      "metadata": {
        "id": "HLZ3iqWtHNyx"
      }
    },
    {
      "cell_type": "markdown",
      "source": [
        "Dadas las matrices $A$\n",
        " y $D$\n",
        ", calcule la matriz resultante de la multiplicación $A$⋅$D$\n",
        "\n",
        "\n"
      ],
      "metadata": {
        "id": "Q1vfW6LkHTxM"
      }
    },
    {
      "cell_type": "code",
      "source": [
        "A * D"
      ],
      "metadata": {
        "id": "gC0Hk9nAHqy4",
        "colab": {
          "base_uri": "https://localhost:8080/"
        },
        "outputId": "41d8df55-0be9-449a-8e06-fecd8013ae02"
      },
      "execution_count": null,
      "outputs": [
        {
          "output_type": "execute_result",
          "data": {
            "text/plain": [
              "matrix([[ -6,   7],\n",
              "        [-10,  11]])"
            ]
          },
          "metadata": {},
          "execution_count": 24
        }
      ]
    },
    {
      "cell_type": "markdown",
      "source": [
        "Dadas las matrices $B$\n",
        " y $E$\n",
        ", calcule la matriz resultante de la multiplicación $B$⋅$E$\n",
        "\n"
      ],
      "metadata": {
        "id": "HR09lqBeHrGc"
      }
    },
    {
      "cell_type": "code",
      "source": [
        "B*E"
      ],
      "metadata": {
        "id": "cATi24EbHtVf",
        "colab": {
          "base_uri": "https://localhost:8080/"
        },
        "outputId": "012b3970-d6f0-48ba-bcc2-e0289987bef6"
      },
      "execution_count": null,
      "outputs": [
        {
          "output_type": "execute_result",
          "data": {
            "text/plain": [
              "matrix([[6, 5],\n",
              "        [8, 7]])"
            ]
          },
          "metadata": {},
          "execution_count": 25
        }
      ]
    },
    {
      "cell_type": "markdown",
      "source": [
        "Dadas las matrices $C$\n",
        " y $G$\n",
        ", calcule la matriz resultante de la multiplicación $C$⋅$G$\n"
      ],
      "metadata": {
        "id": "AgxllRycHto_"
      }
    },
    {
      "cell_type": "code",
      "source": [
        "C*G"
      ],
      "metadata": {
        "id": "UOY3NFIHHvKZ",
        "colab": {
          "base_uri": "https://localhost:8080/",
          "height": 224
        },
        "outputId": "c119535d-c81f-4920-b675-1fa4e8bab99a"
      },
      "execution_count": null,
      "outputs": [
        {
          "output_type": "error",
          "ename": "ValueError",
          "evalue": "ignored",
          "traceback": [
            "\u001b[0;31m---------------------------------------------------------------------------\u001b[0m",
            "\u001b[0;31mValueError\u001b[0m                                Traceback (most recent call last)",
            "\u001b[0;32m<ipython-input-26-b303b2840140>\u001b[0m in \u001b[0;36m<module>\u001b[0;34m\u001b[0m\n\u001b[0;32m----> 1\u001b[0;31m \u001b[0mC\u001b[0m\u001b[0;34m*\u001b[0m\u001b[0mG\u001b[0m\u001b[0;34m\u001b[0m\u001b[0;34m\u001b[0m\u001b[0m\n\u001b[0m",
            "\u001b[0;32m/usr/local/lib/python3.8/dist-packages/numpy/matrixlib/defmatrix.py\u001b[0m in \u001b[0;36m__mul__\u001b[0;34m(self, other)\u001b[0m\n\u001b[1;32m    216\u001b[0m         \u001b[0;32mif\u001b[0m \u001b[0misinstance\u001b[0m\u001b[0;34m(\u001b[0m\u001b[0mother\u001b[0m\u001b[0;34m,\u001b[0m \u001b[0;34m(\u001b[0m\u001b[0mN\u001b[0m\u001b[0;34m.\u001b[0m\u001b[0mndarray\u001b[0m\u001b[0;34m,\u001b[0m \u001b[0mlist\u001b[0m\u001b[0;34m,\u001b[0m \u001b[0mtuple\u001b[0m\u001b[0;34m)\u001b[0m\u001b[0;34m)\u001b[0m \u001b[0;34m:\u001b[0m\u001b[0;34m\u001b[0m\u001b[0;34m\u001b[0m\u001b[0m\n\u001b[1;32m    217\u001b[0m             \u001b[0;31m# This promotes 1-D vectors to row vectors\u001b[0m\u001b[0;34m\u001b[0m\u001b[0;34m\u001b[0m\u001b[0;34m\u001b[0m\u001b[0m\n\u001b[0;32m--> 218\u001b[0;31m             \u001b[0;32mreturn\u001b[0m \u001b[0mN\u001b[0m\u001b[0;34m.\u001b[0m\u001b[0mdot\u001b[0m\u001b[0;34m(\u001b[0m\u001b[0mself\u001b[0m\u001b[0;34m,\u001b[0m \u001b[0masmatrix\u001b[0m\u001b[0;34m(\u001b[0m\u001b[0mother\u001b[0m\u001b[0;34m)\u001b[0m\u001b[0;34m)\u001b[0m\u001b[0;34m\u001b[0m\u001b[0;34m\u001b[0m\u001b[0m\n\u001b[0m\u001b[1;32m    219\u001b[0m         \u001b[0;32mif\u001b[0m \u001b[0misscalar\u001b[0m\u001b[0;34m(\u001b[0m\u001b[0mother\u001b[0m\u001b[0;34m)\u001b[0m \u001b[0;32mor\u001b[0m \u001b[0;32mnot\u001b[0m \u001b[0mhasattr\u001b[0m\u001b[0;34m(\u001b[0m\u001b[0mother\u001b[0m\u001b[0;34m,\u001b[0m \u001b[0;34m'__rmul__'\u001b[0m\u001b[0;34m)\u001b[0m \u001b[0;34m:\u001b[0m\u001b[0;34m\u001b[0m\u001b[0;34m\u001b[0m\u001b[0m\n\u001b[1;32m    220\u001b[0m             \u001b[0;32mreturn\u001b[0m \u001b[0mN\u001b[0m\u001b[0;34m.\u001b[0m\u001b[0mdot\u001b[0m\u001b[0;34m(\u001b[0m\u001b[0mself\u001b[0m\u001b[0;34m,\u001b[0m \u001b[0mother\u001b[0m\u001b[0;34m)\u001b[0m\u001b[0;34m\u001b[0m\u001b[0;34m\u001b[0m\u001b[0m\n",
            "\u001b[0;32m/usr/local/lib/python3.8/dist-packages/numpy/core/overrides.py\u001b[0m in \u001b[0;36mdot\u001b[0;34m(*args, **kwargs)\u001b[0m\n",
            "\u001b[0;31mValueError\u001b[0m: shapes (2,2) and (3,3) not aligned: 2 (dim 1) != 3 (dim 0)"
          ]
        }
      ]
    },
    {
      "cell_type": "markdown",
      "source": [
        "!!!!!!! La multiplicación no puede ser realizada porque el número de filas de la primera matriz no es igual al número de columnas de la segunda matriz"
      ],
      "metadata": {
        "id": "lN-j8QiFpRFn"
      }
    },
    {
      "cell_type": "markdown",
      "source": [
        "\n",
        "Dadas las matrices $F$\n",
        " y $I$\n",
        ", calcule la matriz resultante de la multiplicación $F$⋅$I$\n"
      ],
      "metadata": {
        "id": "fBCzsxQFHvau"
      }
    },
    {
      "cell_type": "code",
      "source": [
        "F*I"
      ],
      "metadata": {
        "id": "FMWgn9tAHwnh",
        "colab": {
          "base_uri": "https://localhost:8080/"
        },
        "outputId": "57c4f310-06a7-440b-a2ee-2e1174271f9d"
      },
      "execution_count": null,
      "outputs": [
        {
          "output_type": "execute_result",
          "data": {
            "text/plain": [
              "matrix([[3, 1, 2],\n",
              "        [6, 4, 5],\n",
              "        [9, 7, 8]])"
            ]
          },
          "metadata": {},
          "execution_count": 27
        }
      ]
    },
    {
      "cell_type": "markdown",
      "source": [
        "\n",
        "Dadas las matrices $H$\n",
        " y $J$\n",
        ", calcule la matriz resultante de la multiplicación $H$⋅$J$"
      ],
      "metadata": {
        "id": "Exr_V4eNHw51"
      }
    },
    {
      "cell_type": "code",
      "source": [
        "H*J"
      ],
      "metadata": {
        "id": "YUsozwguHxfd",
        "colab": {
          "base_uri": "https://localhost:8080/"
        },
        "outputId": "a4fa0f7c-de9e-460e-fdef-d32fecb5d55a"
      },
      "execution_count": null,
      "outputs": [
        {
          "output_type": "execute_result",
          "data": {
            "text/plain": [
              "matrix([[ 1,  2, -1],\n",
              "        [-3,  0,  4],\n",
              "        [ 2, -1,  2]])"
            ]
          },
          "metadata": {},
          "execution_count": 28
        }
      ]
    },
    {
      "cell_type": "markdown",
      "source": [
        "Dada la matriz $B$\n",
        ", calcule la matriz resultante de la multiplicación por un escalar (−3)$B$\n"
      ],
      "metadata": {
        "id": "5R_7kQ_BH1_j"
      }
    },
    {
      "cell_type": "code",
      "source": [
        "-3*B"
      ],
      "metadata": {
        "id": "7gi7NImVIBPI",
        "colab": {
          "base_uri": "https://localhost:8080/"
        },
        "outputId": "7639baf1-3216-40c6-a5e8-b1924ddfad31"
      },
      "execution_count": null,
      "outputs": [
        {
          "output_type": "execute_result",
          "data": {
            "text/plain": [
              "matrix([[-15, -18],\n",
              "        [-21, -24]])"
            ]
          },
          "metadata": {},
          "execution_count": 29
        }
      ]
    },
    {
      "cell_type": "markdown",
      "source": [
        "\n",
        "Dada la matriz $C$\n",
        ", calcule la matriz resultante de la multiplicación por un escalar 5$C$\n",
        "\n"
      ],
      "metadata": {
        "id": "Xaz0YRrXIBnJ"
      }
    },
    {
      "cell_type": "code",
      "source": [
        "5*C"
      ],
      "metadata": {
        "id": "5VcOuHGSIEw8",
        "colab": {
          "base_uri": "https://localhost:8080/"
        },
        "outputId": "fb89b750-d083-4bba-865a-776f29baefb9"
      },
      "execution_count": null,
      "outputs": [
        {
          "output_type": "execute_result",
          "data": {
            "text/plain": [
              "matrix([[-5,  0],\n",
              "        [10, 15]])"
            ]
          },
          "metadata": {},
          "execution_count": 30
        }
      ]
    },
    {
      "cell_type": "markdown",
      "source": [
        "Dada la matriz $E$\n",
        ", calcule la matriz resultante de la multiplicación por un escalar (−2)$E$\n"
      ],
      "metadata": {
        "id": "g7aT0T92IFC7"
      }
    },
    {
      "cell_type": "code",
      "source": [
        "-2*E"
      ],
      "metadata": {
        "id": "SyNiuDzIIGrL",
        "colab": {
          "base_uri": "https://localhost:8080/"
        },
        "outputId": "668ff76c-dbe8-42b9-ff4d-770fb14041b7"
      },
      "execution_count": null,
      "outputs": [
        {
          "output_type": "execute_result",
          "data": {
            "text/plain": [
              "matrix([[ 0, -2],\n",
              "        [-2,  0]])"
            ]
          },
          "metadata": {},
          "execution_count": 31
        }
      ]
    },
    {
      "cell_type": "markdown",
      "source": [
        "\n",
        "Dada la matriz $G$\n",
        ", calcule la matriz resultante de la multiplicación por un escalar 4$G$\n"
      ],
      "metadata": {
        "id": "ldlthyYkIG-P"
      }
    },
    {
      "cell_type": "code",
      "source": [
        "4*G"
      ],
      "metadata": {
        "id": "_iPwe8m4IH2b",
        "colab": {
          "base_uri": "https://localhost:8080/"
        },
        "outputId": "cbae6d93-8d76-48e8-8a9e-72927aebf6fb"
      },
      "execution_count": null,
      "outputs": [
        {
          "output_type": "execute_result",
          "data": {
            "text/plain": [
              "matrix([[-8,  0,  4],\n",
              "        [12, -4,  8],\n",
              "        [ 0, 16, 20]])"
            ]
          },
          "metadata": {},
          "execution_count": 32
        }
      ]
    },
    {
      "cell_type": "markdown",
      "source": [
        "\n",
        "Dada la matriz $J$\n",
        ", calcule la matriz resultante de la multiplicación por un escalar (−1)$J$4"
      ],
      "metadata": {
        "id": "_vKACm-SIIOb"
      }
    },
    {
      "cell_type": "code",
      "source": [
        "-1*J*4"
      ],
      "metadata": {
        "id": "7zyX-Mv6II_n",
        "colab": {
          "base_uri": "https://localhost:8080/"
        },
        "outputId": "315bdcb6-bd76-4ca2-ded7-adf20ce8a70e"
      },
      "execution_count": null,
      "outputs": [
        {
          "output_type": "execute_result",
          "data": {
            "text/plain": [
              "matrix([[-4,  0,  0],\n",
              "        [ 0, -4,  0],\n",
              "        [ 0,  0, -4]])"
            ]
          },
          "metadata": {},
          "execution_count": 33
        }
      ]
    },
    {
      "cell_type": "markdown",
      "source": [
        "# potenciación de matrices"
      ],
      "metadata": {
        "id": "YEzSmIkXIJV7"
      }
    },
    {
      "cell_type": "markdown",
      "source": [
        "Dada la matriz $A$\n",
        ", calcule la matriz resultante de la potencia $A$<sup>3\n",
        "\n"
      ],
      "metadata": {
        "id": "osog4UbXILzx"
      }
    },
    {
      "cell_type": "code",
      "source": [
        "A**3"
      ],
      "metadata": {
        "id": "_SaqcfhGI1gA",
        "colab": {
          "base_uri": "https://localhost:8080/"
        },
        "outputId": "3d70f0cf-8f55-4a48-854b-29232f789586"
      },
      "execution_count": null,
      "outputs": [
        {
          "output_type": "execute_result",
          "data": {
            "text/plain": [
              "matrix([[ 37,  54],\n",
              "        [ 81, 118]])"
            ]
          },
          "metadata": {},
          "execution_count": 34
        }
      ]
    },
    {
      "cell_type": "markdown",
      "source": [
        "\n",
        "Dada la matriz $C$\n",
        ", calcule la matriz resultante de la potencia $C$<sup>2\n",
        "\n"
      ],
      "metadata": {
        "id": "CLlmdin3I2x2"
      }
    },
    {
      "cell_type": "code",
      "source": [
        "C**2"
      ],
      "metadata": {
        "id": "m1341k-VI4Lc",
        "colab": {
          "base_uri": "https://localhost:8080/"
        },
        "outputId": "0e1e472d-c015-4517-fd89-efe1bdeaf5fc"
      },
      "execution_count": null,
      "outputs": [
        {
          "output_type": "execute_result",
          "data": {
            "text/plain": [
              "matrix([[1, 0],\n",
              "        [4, 9]])"
            ]
          },
          "metadata": {},
          "execution_count": 35
        }
      ]
    },
    {
      "cell_type": "markdown",
      "source": [
        "Dada la matriz $D$\n",
        ", calcule la matriz resultante de la potencia $D$<sup>3\n",
        "\n"
      ],
      "metadata": {
        "id": "jlFF-usEI4yg"
      }
    },
    {
      "cell_type": "code",
      "source": [
        "D**3"
      ],
      "metadata": {
        "id": "rjAE0UnBI594",
        "colab": {
          "base_uri": "https://localhost:8080/"
        },
        "outputId": "4f462b02-b68d-4417-c63d-2dbed97ffb2e"
      },
      "execution_count": null,
      "outputs": [
        {
          "output_type": "execute_result",
          "data": {
            "text/plain": [
              "matrix([[ 116, -153],\n",
              "        [-204,  269]])"
            ]
          },
          "metadata": {},
          "execution_count": 36
        }
      ]
    },
    {
      "cell_type": "markdown",
      "source": [
        "Dada la matriz $G$\n",
        ", calcule la matriz resultante de la potencia $G$<sup>2"
      ],
      "metadata": {
        "id": "MPz499ugI6Q4"
      }
    },
    {
      "cell_type": "code",
      "source": [
        "G**2"
      ],
      "metadata": {
        "id": "po0ONhubI63s",
        "colab": {
          "base_uri": "https://localhost:8080/"
        },
        "outputId": "c4d23c90-89aa-4248-d4c2-31dcf67d9341"
      },
      "execution_count": null,
      "outputs": [
        {
          "output_type": "execute_result",
          "data": {
            "text/plain": [
              "matrix([[ 4,  4,  3],\n",
              "        [-9,  9, 11],\n",
              "        [12, 16, 33]])"
            ]
          },
          "metadata": {},
          "execution_count": 37
        }
      ]
    },
    {
      "cell_type": "markdown",
      "source": [
        "Dada la matriz $J$\n",
        ", calcule la matriz resultante de la potencia $J$<sup>4\n"
      ],
      "metadata": {
        "id": "USguuy_QIubh"
      }
    },
    {
      "cell_type": "code",
      "source": [
        "J**4"
      ],
      "metadata": {
        "id": "mVX_pl0EI0Ow",
        "colab": {
          "base_uri": "https://localhost:8080/"
        },
        "outputId": "90b3110f-d675-4755-ddfa-8a052a4a1d18"
      },
      "execution_count": null,
      "outputs": [
        {
          "output_type": "execute_result",
          "data": {
            "text/plain": [
              "matrix([[1, 0, 0],\n",
              "        [0, 1, 0],\n",
              "        [0, 0, 1]])"
            ]
          },
          "metadata": {},
          "execution_count": 38
        }
      ]
    },
    {
      "cell_type": "markdown",
      "source": [
        "# Solución de ecuaciones lineales"
      ],
      "metadata": {
        "id": "iYC1unnhJPCZ"
      }
    },
    {
      "cell_type": "markdown",
      "source": [
        "La función numpy.linalg.solve() resuelve sistemas de ecuaciones lineales de la forma Ax=b\n",
        ", donde A\n",
        " es una matriz cuadrada y b\n",
        " es un vector columna. A continuación te presento los vectores columna que utilizaras para los ejercicios de esta sección\n",
        "\n",
        " $b_1 = \\begin{pmatrix} 3 \\ 5 \\end{pmatrix}$\n",
        "\n",
        " $b_2 = \\begin{pmatrix} 1 \\ 2  \\end{pmatrix}$\n",
        "\n",
        " $b_3 = \\begin{pmatrix} 4 \\ 7  \\end{pmatrix}$\n",
        "\n",
        " $b_4 = \\begin{pmatrix} 2 \\ 1 \\ 4 \\end{pmatrix}$\n",
        "\n",
        " $b_5 = \\begin{pmatrix} 6 \\ 2 \\ 3 \\end{pmatrix}$"
      ],
      "metadata": {
        "id": "T0nsz0utJRoM"
      }
    },
    {
      "cell_type": "markdown",
      "source": [
        "Dada la matriz $A$\n",
        " y el vector columna $b_1$\n",
        ", resuelve el sistema de ecuaciones lineales $Ax_1=b_1$\n",
        "\n",
        "\n"
      ],
      "metadata": {
        "id": "kY6EWWp1KuEP"
      }
    },
    {
      "cell_type": "code",
      "source": [
        "b_1 = np.matrix ([[3],[5]])\n",
        "x_1=np.linalg.solve(A,b_1)\n",
        "x_1"
      ],
      "metadata": {
        "id": "j_nsZG28Ll8X",
        "colab": {
          "base_uri": "https://localhost:8080/"
        },
        "outputId": "2d6aa53f-0489-4684-985a-d96a96b3025c"
      },
      "execution_count": null,
      "outputs": [
        {
          "output_type": "execute_result",
          "data": {
            "text/plain": [
              "matrix([[-1.],\n",
              "        [ 2.]])"
            ]
          },
          "metadata": {},
          "execution_count": 47
        }
      ]
    },
    {
      "cell_type": "markdown",
      "source": [
        "Realice la comprobación"
      ],
      "metadata": {
        "id": "kNNbTo2iLzX3"
      }
    },
    {
      "cell_type": "code",
      "source": [
        "A*x_1"
      ],
      "metadata": {
        "id": "7rMLC-S2Lz5z",
        "colab": {
          "base_uri": "https://localhost:8080/"
        },
        "outputId": "a9eee1d6-a967-4beb-f6b1-11aa53a3d9fc"
      },
      "execution_count": null,
      "outputs": [
        {
          "output_type": "execute_result",
          "data": {
            "text/plain": [
              "matrix([[3.],\n",
              "        [5.]])"
            ]
          },
          "metadata": {},
          "execution_count": 48
        }
      ]
    },
    {
      "cell_type": "markdown",
      "source": [
        "Dada la matriz $B$\n",
        " y el vector columna $b_2$\n",
        ", resuelve el sistema de ecuaciones lineales $Bx_2=b_2$\n"
      ],
      "metadata": {
        "id": "6vXoW85XLmS3"
      }
    },
    {
      "cell_type": "code",
      "source": [
        "b_2 = np.matrix ([[1],[2]])\n",
        "x_2=np.linalg.solve(B,b_2)\n",
        "x_2"
      ],
      "metadata": {
        "id": "Lb5ZX67mLn1v",
        "colab": {
          "base_uri": "https://localhost:8080/"
        },
        "outputId": "c144c591-85e6-40b2-ca4d-e09153d6bb9d"
      },
      "execution_count": null,
      "outputs": [
        {
          "output_type": "execute_result",
          "data": {
            "text/plain": [
              "matrix([[ 2. ],\n",
              "        [-1.5]])"
            ]
          },
          "metadata": {},
          "execution_count": 49
        }
      ]
    },
    {
      "cell_type": "markdown",
      "source": [
        "Realice la comprobación"
      ],
      "metadata": {
        "id": "VufO7oc9LycT"
      }
    },
    {
      "cell_type": "code",
      "source": [
        "B*x_2"
      ],
      "metadata": {
        "id": "PSXe4gcxLy3n",
        "colab": {
          "base_uri": "https://localhost:8080/"
        },
        "outputId": "1dac4752-7b62-473b-87ff-ca80a183d30c"
      },
      "execution_count": null,
      "outputs": [
        {
          "output_type": "execute_result",
          "data": {
            "text/plain": [
              "matrix([[1.],\n",
              "        [2.]])"
            ]
          },
          "metadata": {},
          "execution_count": 50
        }
      ]
    },
    {
      "cell_type": "markdown",
      "source": [
        "\n",
        "Dada la matriz $C$\n",
        " y el vector columna $b_3$\n",
        ", resuelve el sistema de ecuaciones lineales $Cx_3=b_3$\n"
      ],
      "metadata": {
        "id": "Sr6jSxjWLoG6"
      }
    },
    {
      "cell_type": "code",
      "source": [
        "b_3 = np.matrix ([[4],[7]])\n",
        "x_3=np.linalg.solve(C,b_3)\n",
        "x_3"
      ],
      "metadata": {
        "id": "-FL-dm3hLpmM",
        "colab": {
          "base_uri": "https://localhost:8080/"
        },
        "outputId": "e68ce1e1-e6c2-4f8d-eacc-f47316b4d246"
      },
      "execution_count": null,
      "outputs": [
        {
          "output_type": "execute_result",
          "data": {
            "text/plain": [
              "matrix([[-4.],\n",
              "        [ 5.]])"
            ]
          },
          "metadata": {},
          "execution_count": 51
        }
      ]
    },
    {
      "cell_type": "markdown",
      "source": [
        "Realice la comprobación"
      ],
      "metadata": {
        "id": "FL8-0i9HLxkA"
      }
    },
    {
      "cell_type": "code",
      "source": [
        "C*x_3"
      ],
      "metadata": {
        "id": "29PmDWsdLx5O",
        "colab": {
          "base_uri": "https://localhost:8080/"
        },
        "outputId": "157553a4-324a-4fbf-8776-cacab6cdbec0"
      },
      "execution_count": null,
      "outputs": [
        {
          "output_type": "execute_result",
          "data": {
            "text/plain": [
              "matrix([[4.],\n",
              "        [7.]])"
            ]
          },
          "metadata": {},
          "execution_count": 52
        }
      ]
    },
    {
      "cell_type": "markdown",
      "source": [
        "\n",
        "Dada la matriz $F$\n",
        " y el vector columna $b_4$\n",
        ", resuelve el sistema de ecuaciones lineales $Fx_4=b_4$\n"
      ],
      "metadata": {
        "id": "7G5k_D2rLp3r"
      }
    },
    {
      "cell_type": "code",
      "source": [
        "b_4 = np.matrix([[2],[1],[4]])\n",
        "x_4 = np.linalg.solve(F,b_4)\n",
        "x_4"
      ],
      "metadata": {
        "id": "4KwjdN-dLrGr",
        "colab": {
          "base_uri": "https://localhost:8080/",
          "height": 345
        },
        "outputId": "47f4cef3-56a9-4855-a133-3622314d65d8"
      },
      "execution_count": null,
      "outputs": [
        {
          "output_type": "error",
          "ename": "LinAlgError",
          "evalue": "ignored",
          "traceback": [
            "\u001b[0;31m---------------------------------------------------------------------------\u001b[0m",
            "\u001b[0;31mLinAlgError\u001b[0m                               Traceback (most recent call last)",
            "\u001b[0;32m<ipython-input-54-0d4dc18b0e00>\u001b[0m in \u001b[0;36m<module>\u001b[0;34m\u001b[0m\n\u001b[1;32m      1\u001b[0m \u001b[0mb_4\u001b[0m \u001b[0;34m=\u001b[0m \u001b[0mnp\u001b[0m\u001b[0;34m.\u001b[0m\u001b[0mmatrix\u001b[0m\u001b[0;34m(\u001b[0m\u001b[0;34m[\u001b[0m\u001b[0;34m[\u001b[0m\u001b[0;36m2\u001b[0m\u001b[0;34m]\u001b[0m\u001b[0;34m,\u001b[0m\u001b[0;34m[\u001b[0m\u001b[0;36m1\u001b[0m\u001b[0;34m]\u001b[0m\u001b[0;34m,\u001b[0m\u001b[0;34m[\u001b[0m\u001b[0;36m4\u001b[0m\u001b[0;34m]\u001b[0m\u001b[0;34m]\u001b[0m\u001b[0;34m)\u001b[0m\u001b[0;34m\u001b[0m\u001b[0;34m\u001b[0m\u001b[0m\n\u001b[0;32m----> 2\u001b[0;31m \u001b[0mx_4\u001b[0m \u001b[0;34m=\u001b[0m \u001b[0mnp\u001b[0m\u001b[0;34m.\u001b[0m\u001b[0mlinalg\u001b[0m\u001b[0;34m.\u001b[0m\u001b[0msolve\u001b[0m\u001b[0;34m(\u001b[0m\u001b[0mF\u001b[0m\u001b[0;34m,\u001b[0m\u001b[0mb_4\u001b[0m\u001b[0;34m)\u001b[0m\u001b[0;34m\u001b[0m\u001b[0;34m\u001b[0m\u001b[0m\n\u001b[0m\u001b[1;32m      3\u001b[0m \u001b[0mx_4\u001b[0m\u001b[0;34m\u001b[0m\u001b[0;34m\u001b[0m\u001b[0m\n",
            "\u001b[0;32m/usr/local/lib/python3.8/dist-packages/numpy/core/overrides.py\u001b[0m in \u001b[0;36msolve\u001b[0;34m(*args, **kwargs)\u001b[0m\n",
            "\u001b[0;32m/usr/local/lib/python3.8/dist-packages/numpy/linalg/linalg.py\u001b[0m in \u001b[0;36msolve\u001b[0;34m(a, b)\u001b[0m\n\u001b[1;32m    391\u001b[0m     \u001b[0msignature\u001b[0m \u001b[0;34m=\u001b[0m \u001b[0;34m'DD->D'\u001b[0m \u001b[0;32mif\u001b[0m \u001b[0misComplexType\u001b[0m\u001b[0;34m(\u001b[0m\u001b[0mt\u001b[0m\u001b[0;34m)\u001b[0m \u001b[0;32melse\u001b[0m \u001b[0;34m'dd->d'\u001b[0m\u001b[0;34m\u001b[0m\u001b[0;34m\u001b[0m\u001b[0m\n\u001b[1;32m    392\u001b[0m     \u001b[0mextobj\u001b[0m \u001b[0;34m=\u001b[0m \u001b[0mget_linalg_error_extobj\u001b[0m\u001b[0;34m(\u001b[0m\u001b[0m_raise_linalgerror_singular\u001b[0m\u001b[0;34m)\u001b[0m\u001b[0;34m\u001b[0m\u001b[0;34m\u001b[0m\u001b[0m\n\u001b[0;32m--> 393\u001b[0;31m     \u001b[0mr\u001b[0m \u001b[0;34m=\u001b[0m \u001b[0mgufunc\u001b[0m\u001b[0;34m(\u001b[0m\u001b[0ma\u001b[0m\u001b[0;34m,\u001b[0m \u001b[0mb\u001b[0m\u001b[0;34m,\u001b[0m \u001b[0msignature\u001b[0m\u001b[0;34m=\u001b[0m\u001b[0msignature\u001b[0m\u001b[0;34m,\u001b[0m \u001b[0mextobj\u001b[0m\u001b[0;34m=\u001b[0m\u001b[0mextobj\u001b[0m\u001b[0;34m)\u001b[0m\u001b[0;34m\u001b[0m\u001b[0;34m\u001b[0m\u001b[0m\n\u001b[0m\u001b[1;32m    394\u001b[0m \u001b[0;34m\u001b[0m\u001b[0m\n\u001b[1;32m    395\u001b[0m     \u001b[0;32mreturn\u001b[0m \u001b[0mwrap\u001b[0m\u001b[0;34m(\u001b[0m\u001b[0mr\u001b[0m\u001b[0;34m.\u001b[0m\u001b[0mastype\u001b[0m\u001b[0;34m(\u001b[0m\u001b[0mresult_t\u001b[0m\u001b[0;34m,\u001b[0m \u001b[0mcopy\u001b[0m\u001b[0;34m=\u001b[0m\u001b[0;32mFalse\u001b[0m\u001b[0;34m)\u001b[0m\u001b[0;34m)\u001b[0m\u001b[0;34m\u001b[0m\u001b[0;34m\u001b[0m\u001b[0m\n",
            "\u001b[0;32m/usr/local/lib/python3.8/dist-packages/numpy/linalg/linalg.py\u001b[0m in \u001b[0;36m_raise_linalgerror_singular\u001b[0;34m(err, flag)\u001b[0m\n\u001b[1;32m     86\u001b[0m \u001b[0;34m\u001b[0m\u001b[0m\n\u001b[1;32m     87\u001b[0m \u001b[0;32mdef\u001b[0m \u001b[0m_raise_linalgerror_singular\u001b[0m\u001b[0;34m(\u001b[0m\u001b[0merr\u001b[0m\u001b[0;34m,\u001b[0m \u001b[0mflag\u001b[0m\u001b[0;34m)\u001b[0m\u001b[0;34m:\u001b[0m\u001b[0;34m\u001b[0m\u001b[0;34m\u001b[0m\u001b[0m\n\u001b[0;32m---> 88\u001b[0;31m     \u001b[0;32mraise\u001b[0m \u001b[0mLinAlgError\u001b[0m\u001b[0;34m(\u001b[0m\u001b[0;34m\"Singular matrix\"\u001b[0m\u001b[0;34m)\u001b[0m\u001b[0;34m\u001b[0m\u001b[0;34m\u001b[0m\u001b[0m\n\u001b[0m\u001b[1;32m     89\u001b[0m \u001b[0;34m\u001b[0m\u001b[0m\n\u001b[1;32m     90\u001b[0m \u001b[0;32mdef\u001b[0m \u001b[0m_raise_linalgerror_nonposdef\u001b[0m\u001b[0;34m(\u001b[0m\u001b[0merr\u001b[0m\u001b[0;34m,\u001b[0m \u001b[0mflag\u001b[0m\u001b[0;34m)\u001b[0m\u001b[0;34m:\u001b[0m\u001b[0;34m\u001b[0m\u001b[0;34m\u001b[0m\u001b[0m\n",
            "\u001b[0;31mLinAlgError\u001b[0m: Singular matrix"
          ]
        }
      ]
    },
    {
      "cell_type": "code",
      "source": [
        "np.linalg.det(F)"
      ],
      "metadata": {
        "colab": {
          "base_uri": "https://localhost:8080/"
        },
        "id": "3Oy-p_oinNcY",
        "outputId": "50f85749-a155-465f-9396-114e65281e9a"
      },
      "execution_count": null,
      "outputs": [
        {
          "output_type": "execute_result",
          "data": {
            "text/plain": [
              "0.0"
            ]
          },
          "metadata": {},
          "execution_count": 56
        }
      ]
    },
    {
      "cell_type": "markdown",
      "source": [
        "!!!!!!!Como el determinante de esta matriz es 0, es imposible realizar la operación."
      ],
      "metadata": {
        "id": "TVE8kK3TnWOt"
      }
    },
    {
      "cell_type": "markdown",
      "source": [
        "Realice la comprobación"
      ],
      "metadata": {
        "id": "5wrcUoiRLw4q"
      }
    },
    {
      "cell_type": "code",
      "source": [],
      "metadata": {
        "id": "z7VeyQUnLxOu"
      },
      "execution_count": null,
      "outputs": []
    },
    {
      "cell_type": "markdown",
      "source": [
        "\n",
        "Dada la matriz $J$\n",
        " y el vector columna $b_5$\n",
        ", resuelve el sistema de ecuaciones lineales $Jx_5=b_5$"
      ],
      "metadata": {
        "id": "iVjEBz6ZLsR6"
      }
    },
    {
      "cell_type": "code",
      "source": [
        "b_5 = ([[6],[2],[3]])\n",
        "x_5=np.linalg.solve(J,b_5)\n",
        "x_5"
      ],
      "metadata": {
        "id": "74hvcOIVLs0b",
        "colab": {
          "base_uri": "https://localhost:8080/"
        },
        "outputId": "fb5f254c-679d-4ae2-98af-e301890ba22b"
      },
      "execution_count": null,
      "outputs": [
        {
          "output_type": "execute_result",
          "data": {
            "text/plain": [
              "array([[6.],\n",
              "       [2.],\n",
              "       [3.]])"
            ]
          },
          "metadata": {},
          "execution_count": 50
        }
      ]
    },
    {
      "cell_type": "markdown",
      "source": [
        "Realice la comprobación"
      ],
      "metadata": {
        "id": "zJuxLoq1LtHP"
      }
    },
    {
      "cell_type": "code",
      "source": [
        "J*x_5"
      ],
      "metadata": {
        "id": "8esfiFMCLwUn",
        "colab": {
          "base_uri": "https://localhost:8080/"
        },
        "outputId": "0dccee93-dab2-4d9a-9613-9b1a9725b5fa"
      },
      "execution_count": null,
      "outputs": [
        {
          "output_type": "execute_result",
          "data": {
            "text/plain": [
              "matrix([[6.],\n",
              "        [2.],\n",
              "        [3.]])"
            ]
          },
          "metadata": {},
          "execution_count": 51
        }
      ]
    }
  ]
}